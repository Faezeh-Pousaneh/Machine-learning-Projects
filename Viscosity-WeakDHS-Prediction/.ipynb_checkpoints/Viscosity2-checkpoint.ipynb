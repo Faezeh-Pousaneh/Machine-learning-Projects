{
 "cells": [
  {
   "cell_type": "code",
   "execution_count": 1,
   "metadata": {},
   "outputs": [],
   "source": [
    "import pandas as pd\n",
    "import numpy as np\n",
    "import matplotlib.pyplot as plt\n",
    "import seaborn as sns\n",
    "\n",
    "from sklearn import preprocessing\n",
    "from sklearn.preprocessing import PolynomialFeatures\n",
    "from sklearn.model_selection import train_test_split\n",
    "from sklearn.linear_model import LogisticRegression\n",
    "from sklearn.linear_model import LinearRegression\n",
    "from sklearn import metrics\n",
    "from sklearn.metrics import mean_squared_error, r2_score, mean_absolute_error\n",
    "import math\n",
    "%matplotlib inline\n",
    "import warnings\n",
    "warnings.filterwarnings('ignore')"
   ]
  },
  {
   "cell_type": "markdown",
   "metadata": {},
   "source": [
    "# Data are shear viscosity (eta) of dipolar system with dipolar constant $\\lambda=2$. Predict the viscosity of new data and find the relation between features for the best train."
   ]
  },
  {
   "cell_type": "code",
   "execution_count": 2,
   "metadata": {
    "scrolled": true
   },
   "outputs": [
    {
     "data": {
      "text/html": [
       "<div>\n",
       "<style scoped>\n",
       "    .dataframe tbody tr th:only-of-type {\n",
       "        vertical-align: middle;\n",
       "    }\n",
       "\n",
       "    .dataframe tbody tr th {\n",
       "        vertical-align: top;\n",
       "    }\n",
       "\n",
       "    .dataframe thead th {\n",
       "        text-align: right;\n",
       "    }\n",
       "</style>\n",
       "<table border=\"1\" class=\"dataframe\">\n",
       "  <thead>\n",
       "    <tr style=\"text-align: right;\">\n",
       "      <th></th>\n",
       "      <th>#V</th>\n",
       "      <th>P</th>\n",
       "      <th>P1</th>\n",
       "      <th>err_P1</th>\n",
       "      <th>rho</th>\n",
       "      <th>err_rho</th>\n",
       "      <th>rdf</th>\n",
       "      <th>rdf_x</th>\n",
       "      <th>eta</th>\n",
       "      <th>err_eta</th>\n",
       "    </tr>\n",
       "  </thead>\n",
       "  <tbody>\n",
       "    <tr>\n",
       "      <th>0</th>\n",
       "      <td>V2</td>\n",
       "      <td>1035.8500</td>\n",
       "      <td>1.654480</td>\n",
       "      <td>0.012613</td>\n",
       "      <td>0.575019</td>\n",
       "      <td>0.001804</td>\n",
       "      <td>2.907</td>\n",
       "      <td>0.346</td>\n",
       "      <td>0.687089</td>\n",
       "      <td>0.007465</td>\n",
       "    </tr>\n",
       "    <tr>\n",
       "      <th>1</th>\n",
       "      <td>V3</td>\n",
       "      <td>602.8920</td>\n",
       "      <td>0.962951</td>\n",
       "      <td>0.011165</td>\n",
       "      <td>0.465239</td>\n",
       "      <td>0.001823</td>\n",
       "      <td>2.621</td>\n",
       "      <td>0.346</td>\n",
       "      <td>0.457168</td>\n",
       "      <td>0.004408</td>\n",
       "    </tr>\n",
       "    <tr>\n",
       "      <th>2</th>\n",
       "      <td>V4</td>\n",
       "      <td>384.3890</td>\n",
       "      <td>0.613954</td>\n",
       "      <td>0.006653</td>\n",
       "      <td>0.381716</td>\n",
       "      <td>0.001975</td>\n",
       "      <td>2.479</td>\n",
       "      <td>0.346</td>\n",
       "      <td>0.338157</td>\n",
       "      <td>0.003550</td>\n",
       "    </tr>\n",
       "    <tr>\n",
       "      <th>3</th>\n",
       "      <td>V5</td>\n",
       "      <td>276.3930</td>\n",
       "      <td>0.441460</td>\n",
       "      <td>0.007829</td>\n",
       "      <td>0.317047</td>\n",
       "      <td>0.001441</td>\n",
       "      <td>2.413</td>\n",
       "      <td>0.348</td>\n",
       "      <td>0.276092</td>\n",
       "      <td>0.003268</td>\n",
       "    </tr>\n",
       "    <tr>\n",
       "      <th>4</th>\n",
       "      <td>V6</td>\n",
       "      <td>204.9640</td>\n",
       "      <td>0.327373</td>\n",
       "      <td>0.003899</td>\n",
       "      <td>0.266199</td>\n",
       "      <td>0.001461</td>\n",
       "      <td>2.400</td>\n",
       "      <td>0.346</td>\n",
       "      <td>0.231634</td>\n",
       "      <td>0.002328</td>\n",
       "    </tr>\n",
       "    <tr>\n",
       "      <th>5</th>\n",
       "      <td>V7</td>\n",
       "      <td>165.9100</td>\n",
       "      <td>0.264995</td>\n",
       "      <td>0.003537</td>\n",
       "      <td>0.225668</td>\n",
       "      <td>0.001164</td>\n",
       "      <td>2.396</td>\n",
       "      <td>0.346</td>\n",
       "      <td>0.208344</td>\n",
       "      <td>0.002837</td>\n",
       "    </tr>\n",
       "    <tr>\n",
       "      <th>6</th>\n",
       "      <td>V8</td>\n",
       "      <td>131.5850</td>\n",
       "      <td>0.210170</td>\n",
       "      <td>0.001926</td>\n",
       "      <td>0.192965</td>\n",
       "      <td>0.001522</td>\n",
       "      <td>2.389</td>\n",
       "      <td>0.348</td>\n",
       "      <td>0.188245</td>\n",
       "      <td>0.001000</td>\n",
       "    </tr>\n",
       "    <tr>\n",
       "      <th>7</th>\n",
       "      <td>V9</td>\n",
       "      <td>109.3080</td>\n",
       "      <td>0.174589</td>\n",
       "      <td>0.001710</td>\n",
       "      <td>0.166287</td>\n",
       "      <td>0.000896</td>\n",
       "      <td>2.418</td>\n",
       "      <td>0.348</td>\n",
       "      <td>0.175957</td>\n",
       "      <td>0.002139</td>\n",
       "    </tr>\n",
       "    <tr>\n",
       "      <th>8</th>\n",
       "      <td>V24</td>\n",
       "      <td>1425.7900</td>\n",
       "      <td>2.277300</td>\n",
       "      <td>0.019292</td>\n",
       "      <td>0.638188</td>\n",
       "      <td>0.001544</td>\n",
       "      <td>3.126</td>\n",
       "      <td>0.346</td>\n",
       "      <td>0.897246</td>\n",
       "      <td>0.008654</td>\n",
       "    </tr>\n",
       "    <tr>\n",
       "      <th>9</th>\n",
       "      <td>V25</td>\n",
       "      <td>926.5900</td>\n",
       "      <td>1.479970</td>\n",
       "      <td>0.012412</td>\n",
       "      <td>0.550496</td>\n",
       "      <td>0.001667</td>\n",
       "      <td>2.827</td>\n",
       "      <td>0.346</td>\n",
       "      <td>0.625350</td>\n",
       "      <td>0.006039</td>\n",
       "    </tr>\n",
       "    <tr>\n",
       "      <th>10</th>\n",
       "      <td>V10</td>\n",
       "      <td>92.9567</td>\n",
       "      <td>0.148472</td>\n",
       "      <td>0.001071</td>\n",
       "      <td>0.144338</td>\n",
       "      <td>0.000754</td>\n",
       "      <td>2.433</td>\n",
       "      <td>0.348</td>\n",
       "      <td>0.169251</td>\n",
       "      <td>0.002615</td>\n",
       "    </tr>\n",
       "    <tr>\n",
       "      <th>11</th>\n",
       "      <td>V10-2</td>\n",
       "      <td>92.9567</td>\n",
       "      <td>0.148472</td>\n",
       "      <td>0.001071</td>\n",
       "      <td>0.124338</td>\n",
       "      <td>0.000754</td>\n",
       "      <td>2.433</td>\n",
       "      <td>0.348</td>\n",
       "      <td>0.158003</td>\n",
       "      <td>0.002615</td>\n",
       "    </tr>\n",
       "    <tr>\n",
       "      <th>12</th>\n",
       "      <td>V11</td>\n",
       "      <td>65.4668</td>\n",
       "      <td>0.104565</td>\n",
       "      <td>0.000551</td>\n",
       "      <td>0.103848</td>\n",
       "      <td>0.000642</td>\n",
       "      <td>2.477</td>\n",
       "      <td>0.348</td>\n",
       "      <td>0.154154</td>\n",
       "      <td>0.001840</td>\n",
       "    </tr>\n",
       "    <tr>\n",
       "      <th>13</th>\n",
       "      <td>V12</td>\n",
       "      <td>57.7098</td>\n",
       "      <td>0.092175</td>\n",
       "      <td>0.000760</td>\n",
       "      <td>0.093355</td>\n",
       "      <td>0.000493</td>\n",
       "      <td>2.511</td>\n",
       "      <td>0.348</td>\n",
       "      <td>0.150266</td>\n",
       "      <td>0.005060</td>\n",
       "    </tr>\n",
       "    <tr>\n",
       "      <th>14</th>\n",
       "      <td>V13</td>\n",
       "      <td>51.4702</td>\n",
       "      <td>0.082209</td>\n",
       "      <td>0.001032</td>\n",
       "      <td>0.084229</td>\n",
       "      <td>0.000361</td>\n",
       "      <td>2.524</td>\n",
       "      <td>0.348</td>\n",
       "      <td>0.143515</td>\n",
       "      <td>0.005496</td>\n",
       "    </tr>\n",
       "    <tr>\n",
       "      <th>15</th>\n",
       "      <td>V15</td>\n",
       "      <td>42.7136</td>\n",
       "      <td>0.068223</td>\n",
       "      <td>0.000414</td>\n",
       "      <td>0.069257</td>\n",
       "      <td>0.000434</td>\n",
       "      <td>2.556</td>\n",
       "      <td>0.348</td>\n",
       "      <td>0.142001</td>\n",
       "      <td>0.002068</td>\n",
       "    </tr>\n",
       "    <tr>\n",
       "      <th>16</th>\n",
       "      <td>V16</td>\n",
       "      <td>40.9946</td>\n",
       "      <td>0.065477</td>\n",
       "      <td>0.000396</td>\n",
       "      <td>0.066051</td>\n",
       "      <td>0.000319</td>\n",
       "      <td>2.547</td>\n",
       "      <td>0.346</td>\n",
       "      <td>0.139464</td>\n",
       "      <td>0.002695</td>\n",
       "    </tr>\n",
       "    <tr>\n",
       "      <th>17</th>\n",
       "      <td>V18</td>\n",
       "      <td>35.0707</td>\n",
       "      <td>0.056016</td>\n",
       "      <td>0.000395</td>\n",
       "      <td>0.056228</td>\n",
       "      <td>0.000297</td>\n",
       "      <td>2.582</td>\n",
       "      <td>0.348</td>\n",
       "      <td>0.135531</td>\n",
       "      <td>0.003688</td>\n",
       "    </tr>\n",
       "    <tr>\n",
       "      <th>18</th>\n",
       "      <td>V19</td>\n",
       "      <td>31.3857</td>\n",
       "      <td>0.050130</td>\n",
       "      <td>0.000304</td>\n",
       "      <td>0.050905</td>\n",
       "      <td>0.000348</td>\n",
       "      <td>2.595</td>\n",
       "      <td>0.348</td>\n",
       "      <td>0.135395</td>\n",
       "      <td>0.002330</td>\n",
       "    </tr>\n",
       "    <tr>\n",
       "      <th>19</th>\n",
       "      <td>V20</td>\n",
       "      <td>28.6864</td>\n",
       "      <td>0.045818</td>\n",
       "      <td>0.000245</td>\n",
       "      <td>0.046233</td>\n",
       "      <td>0.000267</td>\n",
       "      <td>2.602</td>\n",
       "      <td>0.346</td>\n",
       "      <td>0.134009</td>\n",
       "      <td>0.002178</td>\n",
       "    </tr>\n",
       "  </tbody>\n",
       "</table>\n",
       "</div>"
      ],
      "text/plain": [
       "       #V          P        P1    err_P1       rho   err_rho    rdf  rdf_x  \\\n",
       "0      V2  1035.8500  1.654480  0.012613  0.575019  0.001804  2.907  0.346   \n",
       "1      V3   602.8920  0.962951  0.011165  0.465239  0.001823  2.621  0.346   \n",
       "2      V4   384.3890  0.613954  0.006653  0.381716  0.001975  2.479  0.346   \n",
       "3      V5   276.3930  0.441460  0.007829  0.317047  0.001441  2.413  0.348   \n",
       "4      V6   204.9640  0.327373  0.003899  0.266199  0.001461  2.400  0.346   \n",
       "5      V7   165.9100  0.264995  0.003537  0.225668  0.001164  2.396  0.346   \n",
       "6      V8   131.5850  0.210170  0.001926  0.192965  0.001522  2.389  0.348   \n",
       "7      V9   109.3080  0.174589  0.001710  0.166287  0.000896  2.418  0.348   \n",
       "8     V24  1425.7900  2.277300  0.019292  0.638188  0.001544  3.126  0.346   \n",
       "9     V25   926.5900  1.479970  0.012412  0.550496  0.001667  2.827  0.346   \n",
       "10    V10    92.9567  0.148472  0.001071  0.144338  0.000754  2.433  0.348   \n",
       "11  V10-2    92.9567  0.148472  0.001071  0.124338  0.000754  2.433  0.348   \n",
       "12    V11    65.4668  0.104565  0.000551  0.103848  0.000642  2.477  0.348   \n",
       "13    V12    57.7098  0.092175  0.000760  0.093355  0.000493  2.511  0.348   \n",
       "14    V13    51.4702  0.082209  0.001032  0.084229  0.000361  2.524  0.348   \n",
       "15    V15    42.7136  0.068223  0.000414  0.069257  0.000434  2.556  0.348   \n",
       "16    V16    40.9946  0.065477  0.000396  0.066051  0.000319  2.547  0.346   \n",
       "17    V18    35.0707  0.056016  0.000395  0.056228  0.000297  2.582  0.348   \n",
       "18    V19    31.3857  0.050130  0.000304  0.050905  0.000348  2.595  0.348   \n",
       "19    V20    28.6864  0.045818  0.000245  0.046233  0.000267  2.602  0.346   \n",
       "\n",
       "         eta   err_eta  \n",
       "0   0.687089  0.007465  \n",
       "1   0.457168  0.004408  \n",
       "2   0.338157  0.003550  \n",
       "3   0.276092  0.003268  \n",
       "4   0.231634  0.002328  \n",
       "5   0.208344  0.002837  \n",
       "6   0.188245  0.001000  \n",
       "7   0.175957  0.002139  \n",
       "8   0.897246  0.008654  \n",
       "9   0.625350  0.006039  \n",
       "10  0.169251  0.002615  \n",
       "11  0.158003  0.002615  \n",
       "12  0.154154  0.001840  \n",
       "13  0.150266  0.005060  \n",
       "14  0.143515  0.005496  \n",
       "15  0.142001  0.002068  \n",
       "16  0.139464  0.002695  \n",
       "17  0.135531  0.003688  \n",
       "18  0.135395  0.002330  \n",
       "19  0.134009  0.002178  "
      ]
     },
     "execution_count": 2,
     "metadata": {},
     "output_type": "execute_result"
    }
   ],
   "source": [
    "data = pd.read_excel('Viscosity2.xlsx', skiprows=1)\n",
    "data"
   ]
  },
  {
   "cell_type": "code",
   "execution_count": 3,
   "metadata": {
    "scrolled": true
   },
   "outputs": [
    {
     "data": {
      "text/html": [
       "<div>\n",
       "<style scoped>\n",
       "    .dataframe tbody tr th:only-of-type {\n",
       "        vertical-align: middle;\n",
       "    }\n",
       "\n",
       "    .dataframe tbody tr th {\n",
       "        vertical-align: top;\n",
       "    }\n",
       "\n",
       "    .dataframe thead th {\n",
       "        text-align: right;\n",
       "    }\n",
       "</style>\n",
       "<table border=\"1\" class=\"dataframe\">\n",
       "  <thead>\n",
       "    <tr style=\"text-align: right;\">\n",
       "      <th></th>\n",
       "      <th>P1</th>\n",
       "      <th>rho</th>\n",
       "      <th>rdf</th>\n",
       "      <th>eta</th>\n",
       "    </tr>\n",
       "  </thead>\n",
       "  <tbody>\n",
       "    <tr>\n",
       "      <th>0</th>\n",
       "      <td>1.654480</td>\n",
       "      <td>0.575019</td>\n",
       "      <td>2.907</td>\n",
       "      <td>0.687089</td>\n",
       "    </tr>\n",
       "    <tr>\n",
       "      <th>1</th>\n",
       "      <td>0.962951</td>\n",
       "      <td>0.465239</td>\n",
       "      <td>2.621</td>\n",
       "      <td>0.457168</td>\n",
       "    </tr>\n",
       "    <tr>\n",
       "      <th>2</th>\n",
       "      <td>0.613954</td>\n",
       "      <td>0.381716</td>\n",
       "      <td>2.479</td>\n",
       "      <td>0.338157</td>\n",
       "    </tr>\n",
       "    <tr>\n",
       "      <th>3</th>\n",
       "      <td>0.441460</td>\n",
       "      <td>0.317047</td>\n",
       "      <td>2.413</td>\n",
       "      <td>0.276092</td>\n",
       "    </tr>\n",
       "    <tr>\n",
       "      <th>4</th>\n",
       "      <td>0.327373</td>\n",
       "      <td>0.266199</td>\n",
       "      <td>2.400</td>\n",
       "      <td>0.231634</td>\n",
       "    </tr>\n",
       "    <tr>\n",
       "      <th>5</th>\n",
       "      <td>0.264995</td>\n",
       "      <td>0.225668</td>\n",
       "      <td>2.396</td>\n",
       "      <td>0.208344</td>\n",
       "    </tr>\n",
       "    <tr>\n",
       "      <th>6</th>\n",
       "      <td>0.210170</td>\n",
       "      <td>0.192965</td>\n",
       "      <td>2.389</td>\n",
       "      <td>0.188245</td>\n",
       "    </tr>\n",
       "    <tr>\n",
       "      <th>7</th>\n",
       "      <td>0.174589</td>\n",
       "      <td>0.166287</td>\n",
       "      <td>2.418</td>\n",
       "      <td>0.175957</td>\n",
       "    </tr>\n",
       "    <tr>\n",
       "      <th>8</th>\n",
       "      <td>2.277300</td>\n",
       "      <td>0.638188</td>\n",
       "      <td>3.126</td>\n",
       "      <td>0.897246</td>\n",
       "    </tr>\n",
       "    <tr>\n",
       "      <th>9</th>\n",
       "      <td>1.479970</td>\n",
       "      <td>0.550496</td>\n",
       "      <td>2.827</td>\n",
       "      <td>0.625350</td>\n",
       "    </tr>\n",
       "    <tr>\n",
       "      <th>10</th>\n",
       "      <td>0.148472</td>\n",
       "      <td>0.144338</td>\n",
       "      <td>2.433</td>\n",
       "      <td>0.169251</td>\n",
       "    </tr>\n",
       "    <tr>\n",
       "      <th>11</th>\n",
       "      <td>0.148472</td>\n",
       "      <td>0.124338</td>\n",
       "      <td>2.433</td>\n",
       "      <td>0.158003</td>\n",
       "    </tr>\n",
       "    <tr>\n",
       "      <th>12</th>\n",
       "      <td>0.104565</td>\n",
       "      <td>0.103848</td>\n",
       "      <td>2.477</td>\n",
       "      <td>0.154154</td>\n",
       "    </tr>\n",
       "    <tr>\n",
       "      <th>13</th>\n",
       "      <td>0.092175</td>\n",
       "      <td>0.093355</td>\n",
       "      <td>2.511</td>\n",
       "      <td>0.150266</td>\n",
       "    </tr>\n",
       "    <tr>\n",
       "      <th>14</th>\n",
       "      <td>0.082209</td>\n",
       "      <td>0.084229</td>\n",
       "      <td>2.524</td>\n",
       "      <td>0.143515</td>\n",
       "    </tr>\n",
       "    <tr>\n",
       "      <th>15</th>\n",
       "      <td>0.068223</td>\n",
       "      <td>0.069257</td>\n",
       "      <td>2.556</td>\n",
       "      <td>0.142001</td>\n",
       "    </tr>\n",
       "    <tr>\n",
       "      <th>16</th>\n",
       "      <td>0.065477</td>\n",
       "      <td>0.066051</td>\n",
       "      <td>2.547</td>\n",
       "      <td>0.139464</td>\n",
       "    </tr>\n",
       "    <tr>\n",
       "      <th>17</th>\n",
       "      <td>0.056016</td>\n",
       "      <td>0.056228</td>\n",
       "      <td>2.582</td>\n",
       "      <td>0.135531</td>\n",
       "    </tr>\n",
       "    <tr>\n",
       "      <th>18</th>\n",
       "      <td>0.050130</td>\n",
       "      <td>0.050905</td>\n",
       "      <td>2.595</td>\n",
       "      <td>0.135395</td>\n",
       "    </tr>\n",
       "    <tr>\n",
       "      <th>19</th>\n",
       "      <td>0.045818</td>\n",
       "      <td>0.046233</td>\n",
       "      <td>2.602</td>\n",
       "      <td>0.134009</td>\n",
       "    </tr>\n",
       "  </tbody>\n",
       "</table>\n",
       "</div>"
      ],
      "text/plain": [
       "          P1       rho    rdf       eta\n",
       "0   1.654480  0.575019  2.907  0.687089\n",
       "1   0.962951  0.465239  2.621  0.457168\n",
       "2   0.613954  0.381716  2.479  0.338157\n",
       "3   0.441460  0.317047  2.413  0.276092\n",
       "4   0.327373  0.266199  2.400  0.231634\n",
       "5   0.264995  0.225668  2.396  0.208344\n",
       "6   0.210170  0.192965  2.389  0.188245\n",
       "7   0.174589  0.166287  2.418  0.175957\n",
       "8   2.277300  0.638188  3.126  0.897246\n",
       "9   1.479970  0.550496  2.827  0.625350\n",
       "10  0.148472  0.144338  2.433  0.169251\n",
       "11  0.148472  0.124338  2.433  0.158003\n",
       "12  0.104565  0.103848  2.477  0.154154\n",
       "13  0.092175  0.093355  2.511  0.150266\n",
       "14  0.082209  0.084229  2.524  0.143515\n",
       "15  0.068223  0.069257  2.556  0.142001\n",
       "16  0.065477  0.066051  2.547  0.139464\n",
       "17  0.056016  0.056228  2.582  0.135531\n",
       "18  0.050130  0.050905  2.595  0.135395\n",
       "19  0.045818  0.046233  2.602  0.134009"
      ]
     },
     "execution_count": 3,
     "metadata": {},
     "output_type": "execute_result"
    }
   ],
   "source": [
    "mydata=pd.DataFrame(data,columns=['P1','rho','rdf','eta'])\n",
    "mydata"
   ]
  },
  {
   "cell_type": "markdown",
   "metadata": {},
   "source": [
    "# Fuction etaEns(x) below is a rescale function for viscosity eta."
   ]
  },
  {
   "cell_type": "code",
   "execution_count": 4,
   "metadata": {},
   "outputs": [],
   "source": [
    "pi=math.pi\n",
    "def log(x):       \n",
    "       return math.log (x, 2.718281828459)\n",
    "\n",
    "def etazero(a):\n",
    "       a = float(a)\n",
    "       return (0.1763578244/(a))\n",
    "\n",
    "def ksi(x):\n",
    "       return ((math.pi/6.0)*x)\n",
    "\n",
    "def gCS(x):\n",
    "       return ((1.0-0.5*ksi(x))/(1.0-ksi(x))**3.0)\n",
    "\n",
    "def Zhs(x):\n",
    "       return ((1.0+ksi(x)+ksi(x)**2.0-ksi(x)**3.0)/(1.0-ksi(x))**3.0)\n",
    "\n",
    "def Lambda(m,S):\n",
    "       return (m**2.0/(S**3.0))\n",
    "\n",
    "def etaEns(x):\n",
    "       Vexcl=((2.0/3.0)*math.pi)\n",
    "       return (0.1763578244*(1.016/gCS(x)+0.8*Vexcl*x\n",
    "              +0.7760*Vexcl*Vexcl*x*x*gCS(x)))\n",
    "def rescalefunction(x):\n",
    "       return etaEns(x*6./pi)"
   ]
  },
  {
   "cell_type": "code",
   "execution_count": 5,
   "metadata": {
    "scrolled": true
   },
   "outputs": [],
   "source": [
    "cols=['P1','rho','rdf','eta']\n",
    "X=pd.DataFrame(data,columns=['P1','rdf','rho'])"
   ]
  },
  {
   "cell_type": "code",
   "execution_count": 6,
   "metadata": {
    "scrolled": true
   },
   "outputs": [
    {
     "data": {
      "text/plain": [
       "0     0.933822\n",
       "1     0.934058\n",
       "2     0.917761\n",
       "3     0.912941\n",
       "4     0.879020\n",
       "5     0.870938\n",
       "6     0.842899\n",
       "7     0.827870\n",
       "8     0.952557\n",
       "9     0.933408\n",
       "10    0.825654\n",
       "11    0.793711\n",
       "12    0.795100\n",
       "13    0.784484\n",
       "14    0.756579\n",
       "15    0.759485\n",
       "16    0.748039\n",
       "17    0.732905\n",
       "18    0.735169\n",
       "19    0.730116\n",
       "dtype: float64"
      ]
     },
     "execution_count": 6,
     "metadata": {},
     "output_type": "execute_result"
    }
   ],
   "source": [
    "eta0=data['eta']/etaEns(X['rho'])\n",
    "#y=pd.DataFrame(eta0,columns=['ETA'])\n",
    "y=eta0\n",
    "y"
   ]
  },
  {
   "cell_type": "code",
   "execution_count": 7,
   "metadata": {},
   "outputs": [
    {
     "data": {
      "text/plain": [
       "(0.65, 1.0)"
      ]
     },
     "execution_count": 7,
     "metadata": {},
     "output_type": "execute_result"
    },
    {
     "data": {
      "image/png": "[encoded data removed]",
      "text/plain": [
       "<Figure size 432x288 with 1 Axes>"
      ]
     },
     "metadata": {
      "needs_background": "light"
     },
     "output_type": "display_data"
    }
   ],
   "source": [
    "plt.plot(mydata['rho'], y,\".\", c=\"blue\")\n",
    "plt.xlim(0, 0.7)\n",
    "plt.ylim(0.65, 1)"
   ]
  },
  {
   "cell_type": "code",
   "execution_count": 8,
   "metadata": {},
   "outputs": [
    {
     "data": {
      "text/plain": [
       "P1     False\n",
       "rho    False\n",
       "rdf    False\n",
       "eta    False\n",
       "dtype: bool"
      ]
     },
     "metadata": {},
     "output_type": "display_data"
    }
   ],
   "source": [
    "display(mydata.isnull().any())"
   ]
  },
  {
   "cell_type": "code",
   "execution_count": 9,
   "metadata": {},
   "outputs": [
    {
     "name": "stdout",
     "output_type": "stream",
     "text": [
      "<class 'pandas.core.frame.DataFrame'>\n",
      "RangeIndex: 20 entries, 0 to 19\n",
      "Data columns (total 4 columns):\n",
      " #   Column  Non-Null Count  Dtype  \n",
      "---  ------  --------------  -----  \n",
      " 0   P1      20 non-null     float64\n",
      " 1   rho     20 non-null     float64\n",
      " 2   rdf     20 non-null     float64\n",
      " 3   eta     20 non-null     float64\n",
      "dtypes: float64(4)\n",
      "memory usage: 768.0 bytes\n"
     ]
    }
   ],
   "source": [
    "mydata.info()"
   ]
  },
  {
   "cell_type": "code",
   "execution_count": 10,
   "metadata": {},
   "outputs": [
    {
     "data": {
      "text/plain": [
       "<seaborn.axisgrid.PairGrid at 0x271e1a4cf10>"
      ]
     },
     "execution_count": 10,
     "metadata": {},
     "output_type": "execute_result"
    },
    {
     "data": {
      "image/png": "[encoded data removed]",
      "text/plain": [
       "<Figure size 720x720 with 20 Axes>"
      ]
     },
     "metadata": {
      "needs_background": "light"
     },
     "output_type": "display_data"
    }
   ],
   "source": [
    "sns.pairplot(mydata)"
   ]
  },
  {
   "cell_type": "markdown",
   "metadata": {},
   "source": [
    "# Check the correlation between features\n",
    "## Pressure and density have strong correlation as we expect"
   ]
  },
  {
   "cell_type": "code",
   "execution_count": 11,
   "metadata": {},
   "outputs": [
    {
     "data": {
      "text/plain": [
       "<AxesSubplot:>"
      ]
     },
     "execution_count": 11,
     "metadata": {},
     "output_type": "execute_result"
    },
    {
     "data": {
      "image/png": "[encoded data removed]",
      "text/plain": [
       "<Figure size 432x288 with 2 Axes>"
      ]
     },
     "metadata": {
      "needs_background": "light"
     },
     "output_type": "display_data"
    }
   ],
   "source": [
    "sns.heatmap(mydata.corr(),annot=True)"
   ]
  },
  {
   "cell_type": "markdown",
   "metadata": {},
   "source": [
    "# Train Linear Regression"
   ]
  },
  {
   "cell_type": "code",
   "execution_count": 12,
   "metadata": {},
   "outputs": [
    {
     "data": {
      "text/html": [
       "<div>\n",
       "<style scoped>\n",
       "    .dataframe tbody tr th:only-of-type {\n",
       "        vertical-align: middle;\n",
       "    }\n",
       "\n",
       "    .dataframe tbody tr th {\n",
       "        vertical-align: top;\n",
       "    }\n",
       "\n",
       "    .dataframe thead th {\n",
       "        text-align: right;\n",
       "    }\n",
       "</style>\n",
       "<table border=\"1\" class=\"dataframe\">\n",
       "  <thead>\n",
       "    <tr style=\"text-align: right;\">\n",
       "      <th></th>\n",
       "      <th>P1</th>\n",
       "      <th>rdf</th>\n",
       "      <th>rho</th>\n",
       "    </tr>\n",
       "  </thead>\n",
       "  <tbody>\n",
       "    <tr>\n",
       "      <th>0</th>\n",
       "      <td>1.654480</td>\n",
       "      <td>2.907</td>\n",
       "      <td>0.575019</td>\n",
       "    </tr>\n",
       "    <tr>\n",
       "      <th>1</th>\n",
       "      <td>0.962951</td>\n",
       "      <td>2.621</td>\n",
       "      <td>0.465239</td>\n",
       "    </tr>\n",
       "    <tr>\n",
       "      <th>2</th>\n",
       "      <td>0.613954</td>\n",
       "      <td>2.479</td>\n",
       "      <td>0.381716</td>\n",
       "    </tr>\n",
       "    <tr>\n",
       "      <th>3</th>\n",
       "      <td>0.441460</td>\n",
       "      <td>2.413</td>\n",
       "      <td>0.317047</td>\n",
       "    </tr>\n",
       "    <tr>\n",
       "      <th>4</th>\n",
       "      <td>0.327373</td>\n",
       "      <td>2.400</td>\n",
       "      <td>0.266199</td>\n",
       "    </tr>\n",
       "    <tr>\n",
       "      <th>5</th>\n",
       "      <td>0.264995</td>\n",
       "      <td>2.396</td>\n",
       "      <td>0.225668</td>\n",
       "    </tr>\n",
       "    <tr>\n",
       "      <th>6</th>\n",
       "      <td>0.210170</td>\n",
       "      <td>2.389</td>\n",
       "      <td>0.192965</td>\n",
       "    </tr>\n",
       "    <tr>\n",
       "      <th>7</th>\n",
       "      <td>0.174589</td>\n",
       "      <td>2.418</td>\n",
       "      <td>0.166287</td>\n",
       "    </tr>\n",
       "    <tr>\n",
       "      <th>8</th>\n",
       "      <td>2.277300</td>\n",
       "      <td>3.126</td>\n",
       "      <td>0.638188</td>\n",
       "    </tr>\n",
       "    <tr>\n",
       "      <th>9</th>\n",
       "      <td>1.479970</td>\n",
       "      <td>2.827</td>\n",
       "      <td>0.550496</td>\n",
       "    </tr>\n",
       "    <tr>\n",
       "      <th>10</th>\n",
       "      <td>0.148472</td>\n",
       "      <td>2.433</td>\n",
       "      <td>0.144338</td>\n",
       "    </tr>\n",
       "    <tr>\n",
       "      <th>11</th>\n",
       "      <td>0.148472</td>\n",
       "      <td>2.433</td>\n",
       "      <td>0.124338</td>\n",
       "    </tr>\n",
       "    <tr>\n",
       "      <th>12</th>\n",
       "      <td>0.104565</td>\n",
       "      <td>2.477</td>\n",
       "      <td>0.103848</td>\n",
       "    </tr>\n",
       "    <tr>\n",
       "      <th>13</th>\n",
       "      <td>0.092175</td>\n",
       "      <td>2.511</td>\n",
       "      <td>0.093355</td>\n",
       "    </tr>\n",
       "    <tr>\n",
       "      <th>14</th>\n",
       "      <td>0.082209</td>\n",
       "      <td>2.524</td>\n",
       "      <td>0.084229</td>\n",
       "    </tr>\n",
       "    <tr>\n",
       "      <th>15</th>\n",
       "      <td>0.068223</td>\n",
       "      <td>2.556</td>\n",
       "      <td>0.069257</td>\n",
       "    </tr>\n",
       "    <tr>\n",
       "      <th>16</th>\n",
       "      <td>0.065477</td>\n",
       "      <td>2.547</td>\n",
       "      <td>0.066051</td>\n",
       "    </tr>\n",
       "    <tr>\n",
       "      <th>17</th>\n",
       "      <td>0.056016</td>\n",
       "      <td>2.582</td>\n",
       "      <td>0.056228</td>\n",
       "    </tr>\n",
       "    <tr>\n",
       "      <th>18</th>\n",
       "      <td>0.050130</td>\n",
       "      <td>2.595</td>\n",
       "      <td>0.050905</td>\n",
       "    </tr>\n",
       "    <tr>\n",
       "      <th>19</th>\n",
       "      <td>0.045818</td>\n",
       "      <td>2.602</td>\n",
       "      <td>0.046233</td>\n",
       "    </tr>\n",
       "  </tbody>\n",
       "</table>\n",
       "</div>"
      ],
      "text/plain": [
       "          P1    rdf       rho\n",
       "0   1.654480  2.907  0.575019\n",
       "1   0.962951  2.621  0.465239\n",
       "2   0.613954  2.479  0.381716\n",
       "3   0.441460  2.413  0.317047\n",
       "4   0.327373  2.400  0.266199\n",
       "5   0.264995  2.396  0.225668\n",
       "6   0.210170  2.389  0.192965\n",
       "7   0.174589  2.418  0.166287\n",
       "8   2.277300  3.126  0.638188\n",
       "9   1.479970  2.827  0.550496\n",
       "10  0.148472  2.433  0.144338\n",
       "11  0.148472  2.433  0.124338\n",
       "12  0.104565  2.477  0.103848\n",
       "13  0.092175  2.511  0.093355\n",
       "14  0.082209  2.524  0.084229\n",
       "15  0.068223  2.556  0.069257\n",
       "16  0.065477  2.547  0.066051\n",
       "17  0.056016  2.582  0.056228\n",
       "18  0.050130  2.595  0.050905\n",
       "19  0.045818  2.602  0.046233"
      ]
     },
     "execution_count": 12,
     "metadata": {},
     "output_type": "execute_result"
    }
   ],
   "source": [
    "X"
   ]
  },
  {
   "cell_type": "code",
   "execution_count": 13,
   "metadata": {},
   "outputs": [],
   "source": [
    "X_train, X_test, y_train, y_test = train_test_split(X, y, test_size=0.2, random_state=42)"
   ]
  },
  {
   "cell_type": "code",
   "execution_count": 14,
   "metadata": {},
   "outputs": [],
   "source": [
    "regression_model= LinearRegression()"
   ]
  },
  {
   "cell_type": "code",
   "execution_count": 15,
   "metadata": {},
   "outputs": [
    {
     "data": {
      "text/plain": [
       "LinearRegression()"
      ]
     },
     "execution_count": 15,
     "metadata": {},
     "output_type": "execute_result"
    }
   ],
   "source": [
    "regression_model.fit(X_train,y_train)"
   ]
  },
  {
   "cell_type": "code",
   "execution_count": 16,
   "metadata": {
    "scrolled": true
   },
   "outputs": [
    {
     "data": {
      "text/plain": [
       "array([0.9418245 , 0.73865253, 0.7512123 , 0.93373932])"
      ]
     },
     "execution_count": 16,
     "metadata": {},
     "output_type": "execute_result"
    }
   ],
   "source": [
    "prediction=regression_model.predict(X_test)\n",
    "prediction"
   ]
  },
  {
   "cell_type": "code",
   "execution_count": 17,
   "metadata": {},
   "outputs": [
    {
     "name": "stdout",
     "output_type": "stream",
     "text": [
      "1.429265159742161\n"
     ]
    }
   ],
   "source": [
    "print(regression_model.intercept_)"
   ]
  },
  {
   "cell_type": "code",
   "execution_count": 18,
   "metadata": {},
   "outputs": [
    {
     "data": {
      "text/plain": [
       "(20, 4)"
      ]
     },
     "execution_count": 18,
     "metadata": {},
     "output_type": "execute_result"
    }
   ],
   "source": [
    "mydata.shape"
   ]
  },
  {
   "cell_type": "markdown",
   "metadata": {},
   "source": [
    "# Results below are the best coefficient obtained by training, each coefficient is correspond to each feature "
   ]
  },
  {
   "cell_type": "code",
   "execution_count": 19,
   "metadata": {},
   "outputs": [
    {
     "data": {
      "text/plain": [
       "array([ 0.07123032, -0.27653889,  0.34539511])"
      ]
     },
     "execution_count": 19,
     "metadata": {},
     "output_type": "execute_result"
    }
   ],
   "source": [
    "result=regression_model.coef_\n",
    "result"
   ]
  },
  {
   "cell_type": "code",
   "execution_count": 20,
   "metadata": {},
   "outputs": [
    {
     "data": {
      "text/html": [
       "<div>\n",
       "<style scoped>\n",
       "    .dataframe tbody tr th:only-of-type {\n",
       "        vertical-align: middle;\n",
       "    }\n",
       "\n",
       "    .dataframe tbody tr th {\n",
       "        vertical-align: top;\n",
       "    }\n",
       "\n",
       "    .dataframe thead th {\n",
       "        text-align: right;\n",
       "    }\n",
       "</style>\n",
       "<table border=\"1\" class=\"dataframe\">\n",
       "  <thead>\n",
       "    <tr style=\"text-align: right;\">\n",
       "      <th></th>\n",
       "      <th>0</th>\n",
       "    </tr>\n",
       "  </thead>\n",
       "  <tbody>\n",
       "    <tr>\n",
       "      <th>P1</th>\n",
       "      <td>0.071230</td>\n",
       "    </tr>\n",
       "    <tr>\n",
       "      <th>rdf</th>\n",
       "      <td>-0.276539</td>\n",
       "    </tr>\n",
       "    <tr>\n",
       "      <th>rho</th>\n",
       "      <td>0.345395</td>\n",
       "    </tr>\n",
       "  </tbody>\n",
       "</table>\n",
       "</div>"
      ],
      "text/plain": [
       "            0\n",
       "P1   0.071230\n",
       "rdf -0.276539\n",
       "rho  0.345395"
      ]
     },
     "execution_count": 20,
     "metadata": {},
     "output_type": "execute_result"
    }
   ],
   "source": [
    "cfd=pd.DataFrame(result,X.columns)\n",
    "cfd"
   ]
  },
  {
   "cell_type": "code",
   "execution_count": 21,
   "metadata": {},
   "outputs": [
    {
     "name": "stdout",
     "output_type": "stream",
     "text": [
      "MSE 4.14e-05\n",
      "MAE 0.00559\n",
      "RMSE 0.00643\n"
     ]
    }
   ],
   "source": [
    "#calculate the mean squared erorr\n",
    "model_mse= mean_squared_error(y_test, prediction)\n",
    "\n",
    "#calculate the mean absolute erorr\n",
    "model_mae= mean_absolute_error(y_test,prediction)\n",
    "\n",
    "#calculate the mean squared erorr\n",
    "model_rmse= math.sqrt(model_mse)\n",
    "\n",
    "print('MSE {:.3}'.format(model_mse))\n",
    "print('MAE {:.3}'.format(model_mae))\n",
    "print('RMSE {:.3}'.format(model_rmse))"
   ]
  },
  {
   "cell_type": "code",
   "execution_count": 22,
   "metadata": {},
   "outputs": [
    {
     "data": {
      "text/html": [
       "<div>\n",
       "<style scoped>\n",
       "    .dataframe tbody tr th:only-of-type {\n",
       "        vertical-align: middle;\n",
       "    }\n",
       "\n",
       "    .dataframe tbody tr th {\n",
       "        vertical-align: top;\n",
       "    }\n",
       "\n",
       "    .dataframe thead th {\n",
       "        text-align: right;\n",
       "    }\n",
       "</style>\n",
       "<table border=\"1\" class=\"dataframe\">\n",
       "  <thead>\n",
       "    <tr style=\"text-align: right;\">\n",
       "      <th></th>\n",
       "      <th>Actual</th>\n",
       "      <th>Predicted</th>\n",
       "    </tr>\n",
       "  </thead>\n",
       "  <tbody>\n",
       "    <tr>\n",
       "      <th>0</th>\n",
       "      <td>0.933822</td>\n",
       "      <td>0.941825</td>\n",
       "    </tr>\n",
       "    <tr>\n",
       "      <th>17</th>\n",
       "      <td>0.732905</td>\n",
       "      <td>0.738653</td>\n",
       "    </tr>\n",
       "    <tr>\n",
       "      <th>15</th>\n",
       "      <td>0.759485</td>\n",
       "      <td>0.751212</td>\n",
       "    </tr>\n",
       "    <tr>\n",
       "      <th>1</th>\n",
       "      <td>0.934058</td>\n",
       "      <td>0.933739</td>\n",
       "    </tr>\n",
       "  </tbody>\n",
       "</table>\n",
       "</div>"
      ],
      "text/plain": [
       "      Actual  Predicted\n",
       "0   0.933822   0.941825\n",
       "17  0.732905   0.738653\n",
       "15  0.759485   0.751212\n",
       "1   0.934058   0.933739"
      ]
     },
     "execution_count": 22,
     "metadata": {},
     "output_type": "execute_result"
    }
   ],
   "source": [
    "df = pd.DataFrame({'Actual': y_test, 'Predicted': prediction})\n",
    "df"
   ]
  },
  {
   "cell_type": "markdown",
   "metadata": {},
   "source": [
    "# Accuracy"
   ]
  },
  {
   "cell_type": "code",
   "execution_count": 23,
   "metadata": {},
   "outputs": [],
   "source": [
    "def mape(actual, predicted):\n",
    "    return np.mean(100-np.abs((actual - predicted) / actual)* 100)"
   ]
  },
  {
   "cell_type": "code",
   "execution_count": 24,
   "metadata": {},
   "outputs": [
    {
     "data": {
      "text/plain": [
       "99.30889934194342"
      ]
     },
     "execution_count": 24,
     "metadata": {},
     "output_type": "execute_result"
    }
   ],
   "source": [
    "mape(y_test, prediction)"
   ]
  },
  {
   "cell_type": "markdown",
   "metadata": {},
   "source": [
    "# Vitualize the obtained values vs actual values"
   ]
  },
  {
   "cell_type": "code",
   "execution_count": 25,
   "metadata": {},
   "outputs": [
    {
     "data": {
      "text/plain": [
       "array([0.9418245 , 0.93373932, 0.91930023, 0.90292864, 0.88083454,\n",
       "       0.86349829, 0.8502334 , 0.83046488, 0.94744441, 0.94304708,\n",
       "       0.81687539, 0.80996749, 0.78759512, 0.77368608, 0.76622922,\n",
       "       0.7512123 , 0.75239838, 0.73865253, 0.73279971, 0.72894319])"
      ]
     },
     "execution_count": 25,
     "metadata": {},
     "output_type": "execute_result"
    }
   ],
   "source": [
    "prediction1=regression_model.predict(X)\n",
    "prediction1"
   ]
  },
  {
   "cell_type": "code",
   "execution_count": 59,
   "metadata": {
    "scrolled": false
   },
   "outputs": [
    {
     "data": {
      "image/png": "[encoded data removed]",
      "text/plain": [
       "<Figure size 576x432 with 1 Axes>"
      ]
     },
     "metadata": {
      "needs_background": "light"
     },
     "output_type": "display_data"
    }
   ],
   "source": [
    "fig, (ax0) = plt.subplots(1, figsize=(8,6))\n",
    "\n",
    "# We do not need to plot against LSTAT2, just LSTAT\n",
    "ax0.scatter(mydata['rho'], y,color='green', marker=\"v\",lw=5 )\n",
    "ax0.scatter(mydata['rho'], prediction1.reshape((20,)),\n",
    "         color='red', lw=5, marker=\"d\", label=\"Predictions\")\n",
    "ax0.set_xlim([0.0,0.7])\n",
    "ax0.set_ylim([0.7, 1.])\n",
    "\n",
    "\n",
    "ax0.set_xlabel(\"rho\")\n",
    "\n",
    "plt.show()"
   ]
  },
  {
   "cell_type": "markdown",
   "metadata": {},
   "source": [
    "# Plot hypothesis obtained from coefficient and features"
   ]
  },
  {
   "cell_type": "code",
   "execution_count": 27,
   "metadata": {},
   "outputs": [
    {
     "data": {
      "text/plain": [
       "array([ 0.07123032, -0.27653889,  0.34539511])"
      ]
     },
     "execution_count": 27,
     "metadata": {},
     "output_type": "execute_result"
    }
   ],
   "source": [
    "result=regression_model.coef_\n",
    "result"
   ]
  },
  {
   "cell_type": "code",
   "execution_count": 28,
   "metadata": {},
   "outputs": [
    {
     "data": {
      "text/plain": [
       "(20, 3)"
      ]
     },
     "execution_count": 28,
     "metadata": {},
     "output_type": "execute_result"
    }
   ],
   "source": [
    "X.shape"
   ]
  },
  {
   "cell_type": "code",
   "execution_count": 29,
   "metadata": {},
   "outputs": [
    {
     "data": {
      "text/plain": [
       "array([ 0.07123032, -0.27653889,  0.34539511])"
      ]
     },
     "execution_count": 29,
     "metadata": {},
     "output_type": "execute_result"
    }
   ],
   "source": [
    "theta=regression_model.coef_\n",
    "theta.shape\n",
    "theta"
   ]
  },
  {
   "cell_type": "code",
   "execution_count": 30,
   "metadata": {},
   "outputs": [
    {
     "data": {
      "text/plain": [
       "(20,)"
      ]
     },
     "execution_count": 30,
     "metadata": {},
     "output_type": "execute_result"
    }
   ],
   "source": [
    "Z=1.429265159742161*np.ones(y.shape)\n",
    "Z.shape"
   ]
  },
  {
   "cell_type": "code",
   "execution_count": 31,
   "metadata": {},
   "outputs": [
    {
     "data": {
      "text/html": [
       "<div>\n",
       "<style scoped>\n",
       "    .dataframe tbody tr th:only-of-type {\n",
       "        vertical-align: middle;\n",
       "    }\n",
       "\n",
       "    .dataframe tbody tr th {\n",
       "        vertical-align: top;\n",
       "    }\n",
       "\n",
       "    .dataframe thead th {\n",
       "        text-align: right;\n",
       "    }\n",
       "</style>\n",
       "<table border=\"1\" class=\"dataframe\">\n",
       "  <thead>\n",
       "    <tr style=\"text-align: right;\">\n",
       "      <th></th>\n",
       "      <th>P1</th>\n",
       "      <th>rdf</th>\n",
       "      <th>rho</th>\n",
       "    </tr>\n",
       "  </thead>\n",
       "  <tbody>\n",
       "    <tr>\n",
       "      <th>0</th>\n",
       "      <td>1.654480</td>\n",
       "      <td>2.907</td>\n",
       "      <td>0.575019</td>\n",
       "    </tr>\n",
       "    <tr>\n",
       "      <th>1</th>\n",
       "      <td>0.962951</td>\n",
       "      <td>2.621</td>\n",
       "      <td>0.465239</td>\n",
       "    </tr>\n",
       "    <tr>\n",
       "      <th>2</th>\n",
       "      <td>0.613954</td>\n",
       "      <td>2.479</td>\n",
       "      <td>0.381716</td>\n",
       "    </tr>\n",
       "    <tr>\n",
       "      <th>3</th>\n",
       "      <td>0.441460</td>\n",
       "      <td>2.413</td>\n",
       "      <td>0.317047</td>\n",
       "    </tr>\n",
       "    <tr>\n",
       "      <th>4</th>\n",
       "      <td>0.327373</td>\n",
       "      <td>2.400</td>\n",
       "      <td>0.266199</td>\n",
       "    </tr>\n",
       "    <tr>\n",
       "      <th>5</th>\n",
       "      <td>0.264995</td>\n",
       "      <td>2.396</td>\n",
       "      <td>0.225668</td>\n",
       "    </tr>\n",
       "    <tr>\n",
       "      <th>6</th>\n",
       "      <td>0.210170</td>\n",
       "      <td>2.389</td>\n",
       "      <td>0.192965</td>\n",
       "    </tr>\n",
       "    <tr>\n",
       "      <th>7</th>\n",
       "      <td>0.174589</td>\n",
       "      <td>2.418</td>\n",
       "      <td>0.166287</td>\n",
       "    </tr>\n",
       "    <tr>\n",
       "      <th>8</th>\n",
       "      <td>2.277300</td>\n",
       "      <td>3.126</td>\n",
       "      <td>0.638188</td>\n",
       "    </tr>\n",
       "    <tr>\n",
       "      <th>9</th>\n",
       "      <td>1.479970</td>\n",
       "      <td>2.827</td>\n",
       "      <td>0.550496</td>\n",
       "    </tr>\n",
       "    <tr>\n",
       "      <th>10</th>\n",
       "      <td>0.148472</td>\n",
       "      <td>2.433</td>\n",
       "      <td>0.144338</td>\n",
       "    </tr>\n",
       "    <tr>\n",
       "      <th>11</th>\n",
       "      <td>0.148472</td>\n",
       "      <td>2.433</td>\n",
       "      <td>0.124338</td>\n",
       "    </tr>\n",
       "    <tr>\n",
       "      <th>12</th>\n",
       "      <td>0.104565</td>\n",
       "      <td>2.477</td>\n",
       "      <td>0.103848</td>\n",
       "    </tr>\n",
       "    <tr>\n",
       "      <th>13</th>\n",
       "      <td>0.092175</td>\n",
       "      <td>2.511</td>\n",
       "      <td>0.093355</td>\n",
       "    </tr>\n",
       "    <tr>\n",
       "      <th>14</th>\n",
       "      <td>0.082209</td>\n",
       "      <td>2.524</td>\n",
       "      <td>0.084229</td>\n",
       "    </tr>\n",
       "    <tr>\n",
       "      <th>15</th>\n",
       "      <td>0.068223</td>\n",
       "      <td>2.556</td>\n",
       "      <td>0.069257</td>\n",
       "    </tr>\n",
       "    <tr>\n",
       "      <th>16</th>\n",
       "      <td>0.065477</td>\n",
       "      <td>2.547</td>\n",
       "      <td>0.066051</td>\n",
       "    </tr>\n",
       "    <tr>\n",
       "      <th>17</th>\n",
       "      <td>0.056016</td>\n",
       "      <td>2.582</td>\n",
       "      <td>0.056228</td>\n",
       "    </tr>\n",
       "    <tr>\n",
       "      <th>18</th>\n",
       "      <td>0.050130</td>\n",
       "      <td>2.595</td>\n",
       "      <td>0.050905</td>\n",
       "    </tr>\n",
       "    <tr>\n",
       "      <th>19</th>\n",
       "      <td>0.045818</td>\n",
       "      <td>2.602</td>\n",
       "      <td>0.046233</td>\n",
       "    </tr>\n",
       "  </tbody>\n",
       "</table>\n",
       "</div>"
      ],
      "text/plain": [
       "          P1    rdf       rho\n",
       "0   1.654480  2.907  0.575019\n",
       "1   0.962951  2.621  0.465239\n",
       "2   0.613954  2.479  0.381716\n",
       "3   0.441460  2.413  0.317047\n",
       "4   0.327373  2.400  0.266199\n",
       "5   0.264995  2.396  0.225668\n",
       "6   0.210170  2.389  0.192965\n",
       "7   0.174589  2.418  0.166287\n",
       "8   2.277300  3.126  0.638188\n",
       "9   1.479970  2.827  0.550496\n",
       "10  0.148472  2.433  0.144338\n",
       "11  0.148472  2.433  0.124338\n",
       "12  0.104565  2.477  0.103848\n",
       "13  0.092175  2.511  0.093355\n",
       "14  0.082209  2.524  0.084229\n",
       "15  0.068223  2.556  0.069257\n",
       "16  0.065477  2.547  0.066051\n",
       "17  0.056016  2.582  0.056228\n",
       "18  0.050130  2.595  0.050905\n",
       "19  0.045818  2.602  0.046233"
      ]
     },
     "execution_count": 31,
     "metadata": {},
     "output_type": "execute_result"
    }
   ],
   "source": [
    "X"
   ]
  },
  {
   "cell_type": "code",
   "execution_count": 32,
   "metadata": {},
   "outputs": [
    {
     "data": {
      "text/plain": [
       "(20,)"
      ]
     },
     "execution_count": 32,
     "metadata": {},
     "output_type": "execute_result"
    }
   ],
   "source": [
    "htheta=np.dot(theta,X.T)+Z\n",
    "htheta.shape"
   ]
  },
  {
   "cell_type": "code",
   "execution_count": 48,
   "metadata": {},
   "outputs": [
    {
     "data": {
      "text/plain": [
       "(0.68, 1.0)"
      ]
     },
     "execution_count": 48,
     "metadata": {},
     "output_type": "execute_result"
    },
    {
     "data": {
      "image/png": "[encoded data removed]",
      "text/plain": [
       "<Figure size 432x288 with 1 Axes>"
      ]
     },
     "metadata": {
      "needs_background": "light"
     },
     "output_type": "display_data"
    }
   ],
   "source": [
    "plt.plot(X['rho'], htheta,\">\", c=\"green\",markersize=15)\n",
    "plt.plot(X['rho'], y,\".\", c=\"magenta\",markersize=15)\n",
    "plt.xlim(0.01, 0.7)\n",
    "plt.ylim(0.68, 1)"
   ]
  },
  {
   "cell_type": "code",
   "execution_count": null,
   "metadata": {},
   "outputs": [],
   "source": []
  },
  {
   "cell_type": "code",
   "execution_count": null,
   "metadata": {},
   "outputs": [],
   "source": []
  }
 ],
 "metadata": {
  "kernelspec": {
   "display_name": "Python 3",
   "language": "python",
   "name": "python3"
  },
  "language_info": {
   "codemirror_mode": {
    "name": "ipython",
    "version": 3
   },
   "file_extension": ".py",
   "mimetype": "text/x-python",
   "name": "python",
   "nbconvert_exporter": "python",
   "pygments_lexer": "ipython3",
   "version": "3.8.5"
  }
 },
 "nbformat": 4,
 "nbformat_minor": 4
}
