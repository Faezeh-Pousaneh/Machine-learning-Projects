{
 "cells": [
  {
   "cell_type": "code",
   "execution_count": 166,
   "metadata": {},
   "outputs": [],
   "source": [
    "import pandas as pd\n",
    "import numpy as np\n",
    "import matplotlib.pyplot as plt\n",
    "import seaborn as sns\n",
    "\n",
    "from sklearn import preprocessing\n",
    "from sklearn.preprocessing import PolynomialFeatures\n",
    "from sklearn.model_selection import train_test_split\n",
    "from sklearn.linear_model import LogisticRegression\n",
    "from sklearn.linear_model import LinearRegression\n",
    "from sklearn import metrics\n",
    "from sklearn.metrics import mean_squared_error, r2_score, mean_absolute_error\n",
    "import math\n",
    "%matplotlib inline\n",
    "import warnings\n",
    "warnings.filterwarnings('ignore')"
   ]
  },
  {
   "cell_type": "markdown",
   "metadata": {},
   "source": [
    "# You are given data for housing prices with different features. Predict the prices for new data with given features of the house."
   ]
  },
  {
   "cell_type": "code",
   "execution_count": 167,
   "metadata": {
    "scrolled": true
   },
   "outputs": [],
   "source": [
    "data = pd.read_excel('Viscosity.xlsx')"
   ]
  },
  {
   "cell_type": "code",
   "execution_count": 168,
   "metadata": {
    "scrolled": true
   },
   "outputs": [
    {
     "data": {
      "text/html": [
       "<div>\n",
       "<style scoped>\n",
       "    .dataframe tbody tr th:only-of-type {\n",
       "        vertical-align: middle;\n",
       "    }\n",
       "\n",
       "    .dataframe tbody tr th {\n",
       "        vertical-align: top;\n",
       "    }\n",
       "\n",
       "    .dataframe thead th {\n",
       "        text-align: right;\n",
       "    }\n",
       "</style>\n",
       "<table border=\"1\" class=\"dataframe\">\n",
       "  <thead>\n",
       "    <tr style=\"text-align: right;\">\n",
       "      <th></th>\n",
       "      <th>P</th>\n",
       "      <th>P1</th>\n",
       "      <th>err_P1</th>\n",
       "      <th>rho</th>\n",
       "      <th>err_rho</th>\n",
       "      <th>rdf</th>\n",
       "      <th>rdf_x</th>\n",
       "      <th>eta</th>\n",
       "      <th>err_eta</th>\n",
       "    </tr>\n",
       "  </thead>\n",
       "  <tbody>\n",
       "    <tr>\n",
       "      <th>0</th>\n",
       "      <td>2164.9400</td>\n",
       "      <td>3.457890</td>\n",
       "      <td>0.020869</td>\n",
       "      <td>0.722243</td>\n",
       "      <td>0.002659</td>\n",
       "      <td>3.507</td>\n",
       "      <td>0.346</td>\n",
       "      <td>1.287830</td>\n",
       "      <td>0.058307</td>\n",
       "    </tr>\n",
       "    <tr>\n",
       "      <th>1</th>\n",
       "      <td>1035.8500</td>\n",
       "      <td>1.654480</td>\n",
       "      <td>0.012613</td>\n",
       "      <td>0.575019</td>\n",
       "      <td>0.001804</td>\n",
       "      <td>2.907</td>\n",
       "      <td>0.346</td>\n",
       "      <td>0.687089</td>\n",
       "      <td>0.007465</td>\n",
       "    </tr>\n",
       "    <tr>\n",
       "      <th>2</th>\n",
       "      <td>602.8920</td>\n",
       "      <td>0.962951</td>\n",
       "      <td>0.011165</td>\n",
       "      <td>0.465239</td>\n",
       "      <td>0.001823</td>\n",
       "      <td>2.621</td>\n",
       "      <td>0.346</td>\n",
       "      <td>0.457168</td>\n",
       "      <td>0.004408</td>\n",
       "    </tr>\n",
       "    <tr>\n",
       "      <th>3</th>\n",
       "      <td>384.3890</td>\n",
       "      <td>0.613954</td>\n",
       "      <td>0.006653</td>\n",
       "      <td>0.381716</td>\n",
       "      <td>0.001975</td>\n",
       "      <td>2.479</td>\n",
       "      <td>0.346</td>\n",
       "      <td>0.338157</td>\n",
       "      <td>0.003550</td>\n",
       "    </tr>\n",
       "    <tr>\n",
       "      <th>4</th>\n",
       "      <td>276.3930</td>\n",
       "      <td>0.441460</td>\n",
       "      <td>0.007829</td>\n",
       "      <td>0.317047</td>\n",
       "      <td>0.001441</td>\n",
       "      <td>2.413</td>\n",
       "      <td>0.348</td>\n",
       "      <td>0.276092</td>\n",
       "      <td>0.003268</td>\n",
       "    </tr>\n",
       "    <tr>\n",
       "      <th>5</th>\n",
       "      <td>204.9640</td>\n",
       "      <td>0.327373</td>\n",
       "      <td>0.003899</td>\n",
       "      <td>0.266199</td>\n",
       "      <td>0.001461</td>\n",
       "      <td>2.400</td>\n",
       "      <td>0.346</td>\n",
       "      <td>0.231634</td>\n",
       "      <td>0.002328</td>\n",
       "    </tr>\n",
       "    <tr>\n",
       "      <th>6</th>\n",
       "      <td>165.9100</td>\n",
       "      <td>0.264995</td>\n",
       "      <td>0.003537</td>\n",
       "      <td>0.225668</td>\n",
       "      <td>0.001164</td>\n",
       "      <td>2.396</td>\n",
       "      <td>0.346</td>\n",
       "      <td>0.208344</td>\n",
       "      <td>0.002837</td>\n",
       "    </tr>\n",
       "    <tr>\n",
       "      <th>7</th>\n",
       "      <td>131.5850</td>\n",
       "      <td>0.210170</td>\n",
       "      <td>0.001926</td>\n",
       "      <td>0.192965</td>\n",
       "      <td>0.001522</td>\n",
       "      <td>2.389</td>\n",
       "      <td>0.348</td>\n",
       "      <td>0.188245</td>\n",
       "      <td>0.001000</td>\n",
       "    </tr>\n",
       "    <tr>\n",
       "      <th>8</th>\n",
       "      <td>109.3080</td>\n",
       "      <td>0.174589</td>\n",
       "      <td>0.001710</td>\n",
       "      <td>0.166287</td>\n",
       "      <td>0.000896</td>\n",
       "      <td>2.418</td>\n",
       "      <td>0.348</td>\n",
       "      <td>0.175957</td>\n",
       "      <td>0.002139</td>\n",
       "    </tr>\n",
       "    <tr>\n",
       "      <th>9</th>\n",
       "      <td>4548.4700</td>\n",
       "      <td>7.264910</td>\n",
       "      <td>0.039742</td>\n",
       "      <td>0.878383</td>\n",
       "      <td>0.002359</td>\n",
       "      <td>4.571</td>\n",
       "      <td>0.346</td>\n",
       "      <td>3.341830</td>\n",
       "      <td>0.015931</td>\n",
       "    </tr>\n",
       "    <tr>\n",
       "      <th>10</th>\n",
       "      <td>2420.7500</td>\n",
       "      <td>3.866470</td>\n",
       "      <td>0.024199</td>\n",
       "      <td>0.745539</td>\n",
       "      <td>0.002715</td>\n",
       "      <td>3.640</td>\n",
       "      <td>0.346</td>\n",
       "      <td>1.471890</td>\n",
       "      <td>0.010966</td>\n",
       "    </tr>\n",
       "    <tr>\n",
       "      <th>11</th>\n",
       "      <td>1425.7900</td>\n",
       "      <td>2.277300</td>\n",
       "      <td>0.019292</td>\n",
       "      <td>0.638188</td>\n",
       "      <td>0.001544</td>\n",
       "      <td>3.126</td>\n",
       "      <td>0.346</td>\n",
       "      <td>0.897246</td>\n",
       "      <td>0.008654</td>\n",
       "    </tr>\n",
       "    <tr>\n",
       "      <th>12</th>\n",
       "      <td>926.5900</td>\n",
       "      <td>1.479970</td>\n",
       "      <td>0.012412</td>\n",
       "      <td>0.550496</td>\n",
       "      <td>0.001667</td>\n",
       "      <td>2.827</td>\n",
       "      <td>0.346</td>\n",
       "      <td>0.625350</td>\n",
       "      <td>0.006039</td>\n",
       "    </tr>\n",
       "    <tr>\n",
       "      <th>13</th>\n",
       "      <td>92.9567</td>\n",
       "      <td>0.148472</td>\n",
       "      <td>0.001071</td>\n",
       "      <td>0.144338</td>\n",
       "      <td>0.000754</td>\n",
       "      <td>2.433</td>\n",
       "      <td>0.348</td>\n",
       "      <td>0.169251</td>\n",
       "      <td>0.002615</td>\n",
       "    </tr>\n",
       "    <tr>\n",
       "      <th>14</th>\n",
       "      <td>92.9567</td>\n",
       "      <td>0.148472</td>\n",
       "      <td>0.001071</td>\n",
       "      <td>0.124338</td>\n",
       "      <td>0.000754</td>\n",
       "      <td>2.433</td>\n",
       "      <td>0.348</td>\n",
       "      <td>0.158003</td>\n",
       "      <td>0.002615</td>\n",
       "    </tr>\n",
       "    <tr>\n",
       "      <th>15</th>\n",
       "      <td>65.4668</td>\n",
       "      <td>0.104565</td>\n",
       "      <td>0.000551</td>\n",
       "      <td>0.103848</td>\n",
       "      <td>0.000642</td>\n",
       "      <td>2.477</td>\n",
       "      <td>0.348</td>\n",
       "      <td>0.154154</td>\n",
       "      <td>0.001840</td>\n",
       "    </tr>\n",
       "    <tr>\n",
       "      <th>16</th>\n",
       "      <td>57.7098</td>\n",
       "      <td>0.092175</td>\n",
       "      <td>0.000760</td>\n",
       "      <td>0.093355</td>\n",
       "      <td>0.000493</td>\n",
       "      <td>2.511</td>\n",
       "      <td>0.348</td>\n",
       "      <td>0.150266</td>\n",
       "      <td>0.005060</td>\n",
       "    </tr>\n",
       "    <tr>\n",
       "      <th>17</th>\n",
       "      <td>51.4702</td>\n",
       "      <td>0.082209</td>\n",
       "      <td>0.001032</td>\n",
       "      <td>0.084229</td>\n",
       "      <td>0.000361</td>\n",
       "      <td>2.524</td>\n",
       "      <td>0.348</td>\n",
       "      <td>0.143515</td>\n",
       "      <td>0.005496</td>\n",
       "    </tr>\n",
       "    <tr>\n",
       "      <th>18</th>\n",
       "      <td>42.7136</td>\n",
       "      <td>0.068223</td>\n",
       "      <td>0.000414</td>\n",
       "      <td>0.069257</td>\n",
       "      <td>0.000434</td>\n",
       "      <td>2.556</td>\n",
       "      <td>0.348</td>\n",
       "      <td>0.142001</td>\n",
       "      <td>0.002068</td>\n",
       "    </tr>\n",
       "    <tr>\n",
       "      <th>19</th>\n",
       "      <td>40.9946</td>\n",
       "      <td>0.065477</td>\n",
       "      <td>0.000396</td>\n",
       "      <td>0.066051</td>\n",
       "      <td>0.000319</td>\n",
       "      <td>2.547</td>\n",
       "      <td>0.346</td>\n",
       "      <td>0.139464</td>\n",
       "      <td>0.002695</td>\n",
       "    </tr>\n",
       "    <tr>\n",
       "      <th>20</th>\n",
       "      <td>35.0707</td>\n",
       "      <td>0.056016</td>\n",
       "      <td>0.000395</td>\n",
       "      <td>0.056228</td>\n",
       "      <td>0.000297</td>\n",
       "      <td>2.582</td>\n",
       "      <td>0.348</td>\n",
       "      <td>0.135531</td>\n",
       "      <td>0.003688</td>\n",
       "    </tr>\n",
       "    <tr>\n",
       "      <th>21</th>\n",
       "      <td>31.3857</td>\n",
       "      <td>0.050130</td>\n",
       "      <td>0.000304</td>\n",
       "      <td>0.050905</td>\n",
       "      <td>0.000348</td>\n",
       "      <td>2.595</td>\n",
       "      <td>0.348</td>\n",
       "      <td>0.135395</td>\n",
       "      <td>0.002330</td>\n",
       "    </tr>\n",
       "    <tr>\n",
       "      <th>22</th>\n",
       "      <td>28.6864</td>\n",
       "      <td>0.045818</td>\n",
       "      <td>0.000245</td>\n",
       "      <td>0.046233</td>\n",
       "      <td>0.000267</td>\n",
       "      <td>2.602</td>\n",
       "      <td>0.346</td>\n",
       "      <td>0.134009</td>\n",
       "      <td>0.002178</td>\n",
       "    </tr>\n",
       "  </tbody>\n",
       "</table>\n",
       "</div>"
      ],
      "text/plain": [
       "            P        P1    err_P1       rho   err_rho    rdf  rdf_x       eta  \\\n",
       "0   2164.9400  3.457890  0.020869  0.722243  0.002659  3.507  0.346  1.287830   \n",
       "1   1035.8500  1.654480  0.012613  0.575019  0.001804  2.907  0.346  0.687089   \n",
       "2    602.8920  0.962951  0.011165  0.465239  0.001823  2.621  0.346  0.457168   \n",
       "3    384.3890  0.613954  0.006653  0.381716  0.001975  2.479  0.346  0.338157   \n",
       "4    276.3930  0.441460  0.007829  0.317047  0.001441  2.413  0.348  0.276092   \n",
       "5    204.9640  0.327373  0.003899  0.266199  0.001461  2.400  0.346  0.231634   \n",
       "6    165.9100  0.264995  0.003537  0.225668  0.001164  2.396  0.346  0.208344   \n",
       "7    131.5850  0.210170  0.001926  0.192965  0.001522  2.389  0.348  0.188245   \n",
       "8    109.3080  0.174589  0.001710  0.166287  0.000896  2.418  0.348  0.175957   \n",
       "9   4548.4700  7.264910  0.039742  0.878383  0.002359  4.571  0.346  3.341830   \n",
       "10  2420.7500  3.866470  0.024199  0.745539  0.002715  3.640  0.346  1.471890   \n",
       "11  1425.7900  2.277300  0.019292  0.638188  0.001544  3.126  0.346  0.897246   \n",
       "12   926.5900  1.479970  0.012412  0.550496  0.001667  2.827  0.346  0.625350   \n",
       "13    92.9567  0.148472  0.001071  0.144338  0.000754  2.433  0.348  0.169251   \n",
       "14    92.9567  0.148472  0.001071  0.124338  0.000754  2.433  0.348  0.158003   \n",
       "15    65.4668  0.104565  0.000551  0.103848  0.000642  2.477  0.348  0.154154   \n",
       "16    57.7098  0.092175  0.000760  0.093355  0.000493  2.511  0.348  0.150266   \n",
       "17    51.4702  0.082209  0.001032  0.084229  0.000361  2.524  0.348  0.143515   \n",
       "18    42.7136  0.068223  0.000414  0.069257  0.000434  2.556  0.348  0.142001   \n",
       "19    40.9946  0.065477  0.000396  0.066051  0.000319  2.547  0.346  0.139464   \n",
       "20    35.0707  0.056016  0.000395  0.056228  0.000297  2.582  0.348  0.135531   \n",
       "21    31.3857  0.050130  0.000304  0.050905  0.000348  2.595  0.348  0.135395   \n",
       "22    28.6864  0.045818  0.000245  0.046233  0.000267  2.602  0.346  0.134009   \n",
       "\n",
       "     err_eta  \n",
       "0   0.058307  \n",
       "1   0.007465  \n",
       "2   0.004408  \n",
       "3   0.003550  \n",
       "4   0.003268  \n",
       "5   0.002328  \n",
       "6   0.002837  \n",
       "7   0.001000  \n",
       "8   0.002139  \n",
       "9   0.015931  \n",
       "10  0.010966  \n",
       "11  0.008654  \n",
       "12  0.006039  \n",
       "13  0.002615  \n",
       "14  0.002615  \n",
       "15  0.001840  \n",
       "16  0.005060  \n",
       "17  0.005496  \n",
       "18  0.002068  \n",
       "19  0.002695  \n",
       "20  0.003688  \n",
       "21  0.002330  \n",
       "22  0.002178  "
      ]
     },
     "execution_count": 168,
     "metadata": {},
     "output_type": "execute_result"
    }
   ],
   "source": [
    "data"
   ]
  },
  {
   "cell_type": "code",
   "execution_count": 196,
   "metadata": {},
   "outputs": [
    {
     "data": {
      "text/html": [
       "<div>\n",
       "<style scoped>\n",
       "    .dataframe tbody tr th:only-of-type {\n",
       "        vertical-align: middle;\n",
       "    }\n",
       "\n",
       "    .dataframe tbody tr th {\n",
       "        vertical-align: top;\n",
       "    }\n",
       "\n",
       "    .dataframe thead th {\n",
       "        text-align: right;\n",
       "    }\n",
       "</style>\n",
       "<table border=\"1\" class=\"dataframe\">\n",
       "  <thead>\n",
       "    <tr style=\"text-align: right;\">\n",
       "      <th></th>\n",
       "      <th>P1</th>\n",
       "      <th>rho</th>\n",
       "      <th>rdf</th>\n",
       "      <th>rdf_x</th>\n",
       "      <th>eta</th>\n",
       "    </tr>\n",
       "  </thead>\n",
       "  <tbody>\n",
       "    <tr>\n",
       "      <th>0</th>\n",
       "      <td>3.457890</td>\n",
       "      <td>0.722243</td>\n",
       "      <td>3.507</td>\n",
       "      <td>0.346</td>\n",
       "      <td>1.287830</td>\n",
       "    </tr>\n",
       "    <tr>\n",
       "      <th>1</th>\n",
       "      <td>1.654480</td>\n",
       "      <td>0.575019</td>\n",
       "      <td>2.907</td>\n",
       "      <td>0.346</td>\n",
       "      <td>0.687089</td>\n",
       "    </tr>\n",
       "    <tr>\n",
       "      <th>2</th>\n",
       "      <td>0.962951</td>\n",
       "      <td>0.465239</td>\n",
       "      <td>2.621</td>\n",
       "      <td>0.346</td>\n",
       "      <td>0.457168</td>\n",
       "    </tr>\n",
       "    <tr>\n",
       "      <th>3</th>\n",
       "      <td>0.613954</td>\n",
       "      <td>0.381716</td>\n",
       "      <td>2.479</td>\n",
       "      <td>0.346</td>\n",
       "      <td>0.338157</td>\n",
       "    </tr>\n",
       "    <tr>\n",
       "      <th>4</th>\n",
       "      <td>0.441460</td>\n",
       "      <td>0.317047</td>\n",
       "      <td>2.413</td>\n",
       "      <td>0.348</td>\n",
       "      <td>0.276092</td>\n",
       "    </tr>\n",
       "    <tr>\n",
       "      <th>5</th>\n",
       "      <td>0.327373</td>\n",
       "      <td>0.266199</td>\n",
       "      <td>2.400</td>\n",
       "      <td>0.346</td>\n",
       "      <td>0.231634</td>\n",
       "    </tr>\n",
       "    <tr>\n",
       "      <th>6</th>\n",
       "      <td>0.264995</td>\n",
       "      <td>0.225668</td>\n",
       "      <td>2.396</td>\n",
       "      <td>0.346</td>\n",
       "      <td>0.208344</td>\n",
       "    </tr>\n",
       "    <tr>\n",
       "      <th>7</th>\n",
       "      <td>0.210170</td>\n",
       "      <td>0.192965</td>\n",
       "      <td>2.389</td>\n",
       "      <td>0.348</td>\n",
       "      <td>0.188245</td>\n",
       "    </tr>\n",
       "    <tr>\n",
       "      <th>8</th>\n",
       "      <td>0.174589</td>\n",
       "      <td>0.166287</td>\n",
       "      <td>2.418</td>\n",
       "      <td>0.348</td>\n",
       "      <td>0.175957</td>\n",
       "    </tr>\n",
       "    <tr>\n",
       "      <th>9</th>\n",
       "      <td>7.264910</td>\n",
       "      <td>0.878383</td>\n",
       "      <td>4.571</td>\n",
       "      <td>0.346</td>\n",
       "      <td>3.341830</td>\n",
       "    </tr>\n",
       "    <tr>\n",
       "      <th>10</th>\n",
       "      <td>3.866470</td>\n",
       "      <td>0.745539</td>\n",
       "      <td>3.640</td>\n",
       "      <td>0.346</td>\n",
       "      <td>1.471890</td>\n",
       "    </tr>\n",
       "    <tr>\n",
       "      <th>11</th>\n",
       "      <td>2.277300</td>\n",
       "      <td>0.638188</td>\n",
       "      <td>3.126</td>\n",
       "      <td>0.346</td>\n",
       "      <td>0.897246</td>\n",
       "    </tr>\n",
       "    <tr>\n",
       "      <th>12</th>\n",
       "      <td>1.479970</td>\n",
       "      <td>0.550496</td>\n",
       "      <td>2.827</td>\n",
       "      <td>0.346</td>\n",
       "      <td>0.625350</td>\n",
       "    </tr>\n",
       "    <tr>\n",
       "      <th>13</th>\n",
       "      <td>0.148472</td>\n",
       "      <td>0.144338</td>\n",
       "      <td>2.433</td>\n",
       "      <td>0.348</td>\n",
       "      <td>0.169251</td>\n",
       "    </tr>\n",
       "    <tr>\n",
       "      <th>14</th>\n",
       "      <td>0.148472</td>\n",
       "      <td>0.124338</td>\n",
       "      <td>2.433</td>\n",
       "      <td>0.348</td>\n",
       "      <td>0.158003</td>\n",
       "    </tr>\n",
       "    <tr>\n",
       "      <th>15</th>\n",
       "      <td>0.104565</td>\n",
       "      <td>0.103848</td>\n",
       "      <td>2.477</td>\n",
       "      <td>0.348</td>\n",
       "      <td>0.154154</td>\n",
       "    </tr>\n",
       "    <tr>\n",
       "      <th>16</th>\n",
       "      <td>0.092175</td>\n",
       "      <td>0.093355</td>\n",
       "      <td>2.511</td>\n",
       "      <td>0.348</td>\n",
       "      <td>0.150266</td>\n",
       "    </tr>\n",
       "    <tr>\n",
       "      <th>17</th>\n",
       "      <td>0.082209</td>\n",
       "      <td>0.084229</td>\n",
       "      <td>2.524</td>\n",
       "      <td>0.348</td>\n",
       "      <td>0.143515</td>\n",
       "    </tr>\n",
       "    <tr>\n",
       "      <th>18</th>\n",
       "      <td>0.068223</td>\n",
       "      <td>0.069257</td>\n",
       "      <td>2.556</td>\n",
       "      <td>0.348</td>\n",
       "      <td>0.142001</td>\n",
       "    </tr>\n",
       "    <tr>\n",
       "      <th>19</th>\n",
       "      <td>0.065477</td>\n",
       "      <td>0.066051</td>\n",
       "      <td>2.547</td>\n",
       "      <td>0.346</td>\n",
       "      <td>0.139464</td>\n",
       "    </tr>\n",
       "    <tr>\n",
       "      <th>20</th>\n",
       "      <td>0.056016</td>\n",
       "      <td>0.056228</td>\n",
       "      <td>2.582</td>\n",
       "      <td>0.348</td>\n",
       "      <td>0.135531</td>\n",
       "    </tr>\n",
       "    <tr>\n",
       "      <th>21</th>\n",
       "      <td>0.050130</td>\n",
       "      <td>0.050905</td>\n",
       "      <td>2.595</td>\n",
       "      <td>0.348</td>\n",
       "      <td>0.135395</td>\n",
       "    </tr>\n",
       "    <tr>\n",
       "      <th>22</th>\n",
       "      <td>0.045818</td>\n",
       "      <td>0.046233</td>\n",
       "      <td>2.602</td>\n",
       "      <td>0.346</td>\n",
       "      <td>0.134009</td>\n",
       "    </tr>\n",
       "  </tbody>\n",
       "</table>\n",
       "</div>"
      ],
      "text/plain": [
       "          P1       rho    rdf  rdf_x       eta\n",
       "0   3.457890  0.722243  3.507  0.346  1.287830\n",
       "1   1.654480  0.575019  2.907  0.346  0.687089\n",
       "2   0.962951  0.465239  2.621  0.346  0.457168\n",
       "3   0.613954  0.381716  2.479  0.346  0.338157\n",
       "4   0.441460  0.317047  2.413  0.348  0.276092\n",
       "5   0.327373  0.266199  2.400  0.346  0.231634\n",
       "6   0.264995  0.225668  2.396  0.346  0.208344\n",
       "7   0.210170  0.192965  2.389  0.348  0.188245\n",
       "8   0.174589  0.166287  2.418  0.348  0.175957\n",
       "9   7.264910  0.878383  4.571  0.346  3.341830\n",
       "10  3.866470  0.745539  3.640  0.346  1.471890\n",
       "11  2.277300  0.638188  3.126  0.346  0.897246\n",
       "12  1.479970  0.550496  2.827  0.346  0.625350\n",
       "13  0.148472  0.144338  2.433  0.348  0.169251\n",
       "14  0.148472  0.124338  2.433  0.348  0.158003\n",
       "15  0.104565  0.103848  2.477  0.348  0.154154\n",
       "16  0.092175  0.093355  2.511  0.348  0.150266\n",
       "17  0.082209  0.084229  2.524  0.348  0.143515\n",
       "18  0.068223  0.069257  2.556  0.348  0.142001\n",
       "19  0.065477  0.066051  2.547  0.346  0.139464\n",
       "20  0.056016  0.056228  2.582  0.348  0.135531\n",
       "21  0.050130  0.050905  2.595  0.348  0.135395\n",
       "22  0.045818  0.046233  2.602  0.346  0.134009"
      ]
     },
     "execution_count": 196,
     "metadata": {},
     "output_type": "execute_result"
    }
   ],
   "source": [
    "cols=['P1','rho','rdf','rdf_x','eta']\n",
    "mydata=pd.DataFrame(data,columns=cols)\n",
    "mydata"
   ]
  },
  {
   "cell_type": "code",
   "execution_count": 197,
   "metadata": {},
   "outputs": [
    {
     "data": {
      "text/plain": [
       "P1       False\n",
       "rho      False\n",
       "rdf      False\n",
       "rdf_x    False\n",
       "eta      False\n",
       "dtype: bool"
      ]
     },
     "metadata": {},
     "output_type": "display_data"
    }
   ],
   "source": [
    "display(mydata.isnull().any())"
   ]
  },
  {
   "cell_type": "code",
   "execution_count": 198,
   "metadata": {},
   "outputs": [
    {
     "name": "stdout",
     "output_type": "stream",
     "text": [
      "<class 'pandas.core.frame.DataFrame'>\n",
      "RangeIndex: 23 entries, 0 to 22\n",
      "Data columns (total 5 columns):\n",
      " #   Column  Non-Null Count  Dtype  \n",
      "---  ------  --------------  -----  \n",
      " 0   P1      23 non-null     float64\n",
      " 1   rho     23 non-null     float64\n",
      " 2   rdf     23 non-null     float64\n",
      " 3   rdf_x   23 non-null     float64\n",
      " 4   eta     23 non-null     float64\n",
      "dtypes: float64(5)\n",
      "memory usage: 1.0 KB\n"
     ]
    }
   ],
   "source": [
    "mydata.info()"
   ]
  },
  {
   "cell_type": "code",
   "execution_count": 199,
   "metadata": {},
   "outputs": [
    {
     "data": {
      "text/plain": [
       "<seaborn.axisgrid.PairGrid at 0x1bb6158da60>"
      ]
     },
     "execution_count": 199,
     "metadata": {},
     "output_type": "execute_result"
    },
    {
     "data": {
      "image/png": "[encoded data removed]",
      "text/plain": [
       "<Figure size 900x900 with 30 Axes>"
      ]
     },
     "metadata": {
      "needs_background": "light"
     },
     "output_type": "display_data"
    }
   ],
   "source": [
    "sns.pairplot(mydata)"
   ]
  },
  {
   "cell_type": "markdown",
   "metadata": {},
   "source": [
    "# Check the correlation between features"
   ]
  },
  {
   "cell_type": "code",
   "execution_count": 200,
   "metadata": {},
   "outputs": [
    {
     "data": {
      "text/plain": [
       "<AxesSubplot:>"
      ]
     },
     "execution_count": 200,
     "metadata": {},
     "output_type": "execute_result"
    },
    {
     "data": {
      "image/png": "[encoded data removed]",
      "text/plain": [
       "<Figure size 432x288 with 2 Axes>"
      ]
     },
     "metadata": {
      "needs_background": "light"
     },
     "output_type": "display_data"
    }
   ],
   "source": [
    "sns.heatmap(mydata.corr(),annot=True)"
   ]
  },
  {
   "cell_type": "code",
   "execution_count": 201,
   "metadata": {},
   "outputs": [
    {
     "data": {
      "text/plain": [
       "(23, 5)"
      ]
     },
     "execution_count": 201,
     "metadata": {},
     "output_type": "execute_result"
    }
   ],
   "source": [
    "mydata.shape"
   ]
  },
  {
   "cell_type": "code",
   "execution_count": 205,
   "metadata": {},
   "outputs": [],
   "source": [
    "X=pd.DataFrame(mydata,columns=['P1','rho','rdf','rdf_x'])\n",
    "y=mydata[\"eta\"]"
   ]
  },
  {
   "cell_type": "code",
   "execution_count": 206,
   "metadata": {},
   "outputs": [
    {
     "data": {
      "text/html": [
       "<div>\n",
       "<style scoped>\n",
       "    .dataframe tbody tr th:only-of-type {\n",
       "        vertical-align: middle;\n",
       "    }\n",
       "\n",
       "    .dataframe tbody tr th {\n",
       "        vertical-align: top;\n",
       "    }\n",
       "\n",
       "    .dataframe thead th {\n",
       "        text-align: right;\n",
       "    }\n",
       "</style>\n",
       "<table border=\"1\" class=\"dataframe\">\n",
       "  <thead>\n",
       "    <tr style=\"text-align: right;\">\n",
       "      <th></th>\n",
       "      <th>P1</th>\n",
       "      <th>rho</th>\n",
       "      <th>rdf</th>\n",
       "      <th>rdf_x</th>\n",
       "    </tr>\n",
       "  </thead>\n",
       "  <tbody>\n",
       "    <tr>\n",
       "      <th>0</th>\n",
       "      <td>3.457890</td>\n",
       "      <td>0.722243</td>\n",
       "      <td>3.507</td>\n",
       "      <td>0.346</td>\n",
       "    </tr>\n",
       "    <tr>\n",
       "      <th>1</th>\n",
       "      <td>1.654480</td>\n",
       "      <td>0.575019</td>\n",
       "      <td>2.907</td>\n",
       "      <td>0.346</td>\n",
       "    </tr>\n",
       "    <tr>\n",
       "      <th>2</th>\n",
       "      <td>0.962951</td>\n",
       "      <td>0.465239</td>\n",
       "      <td>2.621</td>\n",
       "      <td>0.346</td>\n",
       "    </tr>\n",
       "    <tr>\n",
       "      <th>3</th>\n",
       "      <td>0.613954</td>\n",
       "      <td>0.381716</td>\n",
       "      <td>2.479</td>\n",
       "      <td>0.346</td>\n",
       "    </tr>\n",
       "    <tr>\n",
       "      <th>4</th>\n",
       "      <td>0.441460</td>\n",
       "      <td>0.317047</td>\n",
       "      <td>2.413</td>\n",
       "      <td>0.348</td>\n",
       "    </tr>\n",
       "    <tr>\n",
       "      <th>5</th>\n",
       "      <td>0.327373</td>\n",
       "      <td>0.266199</td>\n",
       "      <td>2.400</td>\n",
       "      <td>0.346</td>\n",
       "    </tr>\n",
       "    <tr>\n",
       "      <th>6</th>\n",
       "      <td>0.264995</td>\n",
       "      <td>0.225668</td>\n",
       "      <td>2.396</td>\n",
       "      <td>0.346</td>\n",
       "    </tr>\n",
       "    <tr>\n",
       "      <th>7</th>\n",
       "      <td>0.210170</td>\n",
       "      <td>0.192965</td>\n",
       "      <td>2.389</td>\n",
       "      <td>0.348</td>\n",
       "    </tr>\n",
       "    <tr>\n",
       "      <th>8</th>\n",
       "      <td>0.174589</td>\n",
       "      <td>0.166287</td>\n",
       "      <td>2.418</td>\n",
       "      <td>0.348</td>\n",
       "    </tr>\n",
       "    <tr>\n",
       "      <th>9</th>\n",
       "      <td>7.264910</td>\n",
       "      <td>0.878383</td>\n",
       "      <td>4.571</td>\n",
       "      <td>0.346</td>\n",
       "    </tr>\n",
       "    <tr>\n",
       "      <th>10</th>\n",
       "      <td>3.866470</td>\n",
       "      <td>0.745539</td>\n",
       "      <td>3.640</td>\n",
       "      <td>0.346</td>\n",
       "    </tr>\n",
       "    <tr>\n",
       "      <th>11</th>\n",
       "      <td>2.277300</td>\n",
       "      <td>0.638188</td>\n",
       "      <td>3.126</td>\n",
       "      <td>0.346</td>\n",
       "    </tr>\n",
       "    <tr>\n",
       "      <th>12</th>\n",
       "      <td>1.479970</td>\n",
       "      <td>0.550496</td>\n",
       "      <td>2.827</td>\n",
       "      <td>0.346</td>\n",
       "    </tr>\n",
       "    <tr>\n",
       "      <th>13</th>\n",
       "      <td>0.148472</td>\n",
       "      <td>0.144338</td>\n",
       "      <td>2.433</td>\n",
       "      <td>0.348</td>\n",
       "    </tr>\n",
       "    <tr>\n",
       "      <th>14</th>\n",
       "      <td>0.148472</td>\n",
       "      <td>0.124338</td>\n",
       "      <td>2.433</td>\n",
       "      <td>0.348</td>\n",
       "    </tr>\n",
       "    <tr>\n",
       "      <th>15</th>\n",
       "      <td>0.104565</td>\n",
       "      <td>0.103848</td>\n",
       "      <td>2.477</td>\n",
       "      <td>0.348</td>\n",
       "    </tr>\n",
       "    <tr>\n",
       "      <th>16</th>\n",
       "      <td>0.092175</td>\n",
       "      <td>0.093355</td>\n",
       "      <td>2.511</td>\n",
       "      <td>0.348</td>\n",
       "    </tr>\n",
       "    <tr>\n",
       "      <th>17</th>\n",
       "      <td>0.082209</td>\n",
       "      <td>0.084229</td>\n",
       "      <td>2.524</td>\n",
       "      <td>0.348</td>\n",
       "    </tr>\n",
       "    <tr>\n",
       "      <th>18</th>\n",
       "      <td>0.068223</td>\n",
       "      <td>0.069257</td>\n",
       "      <td>2.556</td>\n",
       "      <td>0.348</td>\n",
       "    </tr>\n",
       "    <tr>\n",
       "      <th>19</th>\n",
       "      <td>0.065477</td>\n",
       "      <td>0.066051</td>\n",
       "      <td>2.547</td>\n",
       "      <td>0.346</td>\n",
       "    </tr>\n",
       "    <tr>\n",
       "      <th>20</th>\n",
       "      <td>0.056016</td>\n",
       "      <td>0.056228</td>\n",
       "      <td>2.582</td>\n",
       "      <td>0.348</td>\n",
       "    </tr>\n",
       "    <tr>\n",
       "      <th>21</th>\n",
       "      <td>0.050130</td>\n",
       "      <td>0.050905</td>\n",
       "      <td>2.595</td>\n",
       "      <td>0.348</td>\n",
       "    </tr>\n",
       "    <tr>\n",
       "      <th>22</th>\n",
       "      <td>0.045818</td>\n",
       "      <td>0.046233</td>\n",
       "      <td>2.602</td>\n",
       "      <td>0.346</td>\n",
       "    </tr>\n",
       "  </tbody>\n",
       "</table>\n",
       "</div>"
      ],
      "text/plain": [
       "          P1       rho    rdf  rdf_x\n",
       "0   3.457890  0.722243  3.507  0.346\n",
       "1   1.654480  0.575019  2.907  0.346\n",
       "2   0.962951  0.465239  2.621  0.346\n",
       "3   0.613954  0.381716  2.479  0.346\n",
       "4   0.441460  0.317047  2.413  0.348\n",
       "5   0.327373  0.266199  2.400  0.346\n",
       "6   0.264995  0.225668  2.396  0.346\n",
       "7   0.210170  0.192965  2.389  0.348\n",
       "8   0.174589  0.166287  2.418  0.348\n",
       "9   7.264910  0.878383  4.571  0.346\n",
       "10  3.866470  0.745539  3.640  0.346\n",
       "11  2.277300  0.638188  3.126  0.346\n",
       "12  1.479970  0.550496  2.827  0.346\n",
       "13  0.148472  0.144338  2.433  0.348\n",
       "14  0.148472  0.124338  2.433  0.348\n",
       "15  0.104565  0.103848  2.477  0.348\n",
       "16  0.092175  0.093355  2.511  0.348\n",
       "17  0.082209  0.084229  2.524  0.348\n",
       "18  0.068223  0.069257  2.556  0.348\n",
       "19  0.065477  0.066051  2.547  0.346\n",
       "20  0.056016  0.056228  2.582  0.348\n",
       "21  0.050130  0.050905  2.595  0.348\n",
       "22  0.045818  0.046233  2.602  0.346"
      ]
     },
     "execution_count": 206,
     "metadata": {},
     "output_type": "execute_result"
    }
   ],
   "source": [
    "X"
   ]
  },
  {
   "cell_type": "code",
   "execution_count": 207,
   "metadata": {
    "scrolled": true
   },
   "outputs": [
    {
     "data": {
      "text/plain": [
       "0     1.287830\n",
       "1     0.687089\n",
       "2     0.457168\n",
       "3     0.338157\n",
       "4     0.276092\n",
       "5     0.231634\n",
       "6     0.208344\n",
       "7     0.188245\n",
       "8     0.175957\n",
       "9     3.341830\n",
       "10    1.471890\n",
       "11    0.897246\n",
       "12    0.625350\n",
       "13    0.169251\n",
       "14    0.158003\n",
       "15    0.154154\n",
       "16    0.150266\n",
       "17    0.143515\n",
       "18    0.142001\n",
       "19    0.139464\n",
       "20    0.135531\n",
       "21    0.135395\n",
       "22    0.134009\n",
       "Name: eta, dtype: float64"
      ]
     },
     "execution_count": 207,
     "metadata": {},
     "output_type": "execute_result"
    }
   ],
   "source": [
    "y"
   ]
  },
  {
   "cell_type": "markdown",
   "metadata": {},
   "source": [
    "# Train Linear Regression"
   ]
  },
  {
   "cell_type": "code",
   "execution_count": 208,
   "metadata": {},
   "outputs": [],
   "source": [
    "X_train, X_test, y_train, y_test = train_test_split(X, y, test_size=0.2, random_state=42)"
   ]
  },
  {
   "cell_type": "code",
   "execution_count": 209,
   "metadata": {},
   "outputs": [],
   "source": [
    "regression_model= LinearRegression()"
   ]
  },
  {
   "cell_type": "code",
   "execution_count": 210,
   "metadata": {},
   "outputs": [
    {
     "data": {
      "text/plain": [
       "LinearRegression()"
      ]
     },
     "execution_count": 210,
     "metadata": {},
     "output_type": "execute_result"
    }
   ],
   "source": [
    "regression_model.fit(X_train,y_train)"
   ]
  },
  {
   "cell_type": "code",
   "execution_count": 211,
   "metadata": {
    "scrolled": true
   },
   "outputs": [
    {
     "data": {
      "text/plain": [
       "array([0.15348444, 2.67058852, 1.32257883, 0.17828923, 0.14476591])"
      ]
     },
     "execution_count": 211,
     "metadata": {},
     "output_type": "execute_result"
    }
   ],
   "source": [
    "prediction=regression_model.predict(X_test)\n",
    "prediction"
   ]
  },
  {
   "cell_type": "code",
   "execution_count": 213,
   "metadata": {},
   "outputs": [
    {
     "name": "stdout",
     "output_type": "stream",
     "text": [
      "0.5340887185921099\n"
     ]
    }
   ],
   "source": [
    "print(regression_model.intercept_)"
   ]
  },
  {
   "cell_type": "markdown",
   "metadata": {},
   "source": [
    "# Results below are the best coefficient obtained by training, each coefficient is correspond to each feature "
   ]
  },
  {
   "cell_type": "code",
   "execution_count": 214,
   "metadata": {},
   "outputs": [
    {
     "data": {
      "text/plain": [
       "array([ 0.36340906, -0.03672243, -0.02797185, -0.99282849])"
      ]
     },
     "execution_count": 214,
     "metadata": {},
     "output_type": "execute_result"
    }
   ],
   "source": [
    "result=regression_model.coef_\n",
    "result"
   ]
  },
  {
   "cell_type": "code",
   "execution_count": 215,
   "metadata": {},
   "outputs": [
    {
     "data": {
      "text/html": [
       "<div>\n",
       "<style scoped>\n",
       "    .dataframe tbody tr th:only-of-type {\n",
       "        vertical-align: middle;\n",
       "    }\n",
       "\n",
       "    .dataframe tbody tr th {\n",
       "        vertical-align: top;\n",
       "    }\n",
       "\n",
       "    .dataframe thead th {\n",
       "        text-align: right;\n",
       "    }\n",
       "</style>\n",
       "<table border=\"1\" class=\"dataframe\">\n",
       "  <thead>\n",
       "    <tr style=\"text-align: right;\">\n",
       "      <th></th>\n",
       "      <th>0</th>\n",
       "    </tr>\n",
       "  </thead>\n",
       "  <tbody>\n",
       "    <tr>\n",
       "      <th>P1</th>\n",
       "      <td>0.363409</td>\n",
       "    </tr>\n",
       "    <tr>\n",
       "      <th>rho</th>\n",
       "      <td>-0.036722</td>\n",
       "    </tr>\n",
       "    <tr>\n",
       "      <th>rdf</th>\n",
       "      <td>-0.027972</td>\n",
       "    </tr>\n",
       "    <tr>\n",
       "      <th>rdf_x</th>\n",
       "      <td>-0.992828</td>\n",
       "    </tr>\n",
       "  </tbody>\n",
       "</table>\n",
       "</div>"
      ],
      "text/plain": [
       "              0\n",
       "P1     0.363409\n",
       "rho   -0.036722\n",
       "rdf   -0.027972\n",
       "rdf_x -0.992828"
      ]
     },
     "execution_count": 215,
     "metadata": {},
     "output_type": "execute_result"
    }
   ],
   "source": [
    "cfd=pd.DataFrame(result,X.columns)\n",
    "cfd"
   ]
  },
  {
   "cell_type": "code",
   "execution_count": 216,
   "metadata": {},
   "outputs": [
    {
     "name": "stdout",
     "output_type": "stream",
     "text": [
      "MSE 0.0904\n",
      "MAE 0.142\n",
      "RMSE 0.301\n"
     ]
    }
   ],
   "source": [
    "#calculate the mean squared erorr\n",
    "model_mse= mean_squared_error(y_test, prediction)\n",
    "\n",
    "#calculate the mean absolute erorr\n",
    "model_mae= mean_absolute_error(y_test,prediction)\n",
    "\n",
    "#calculate the mean squared erorr\n",
    "model_rmse= math.sqrt(model_mse)\n",
    "\n",
    "print('MSE {:.3}'.format(model_mse))\n",
    "print('MAE {:.3}'.format(model_mae))\n",
    "print('RMSE {:.3}'.format(model_rmse))"
   ]
  },
  {
   "cell_type": "code",
   "execution_count": 217,
   "metadata": {},
   "outputs": [
    {
     "data": {
      "text/html": [
       "<div>\n",
       "<style scoped>\n",
       "    .dataframe tbody tr th:only-of-type {\n",
       "        vertical-align: middle;\n",
       "    }\n",
       "\n",
       "    .dataframe tbody tr th {\n",
       "        vertical-align: top;\n",
       "    }\n",
       "\n",
       "    .dataframe thead th {\n",
       "        text-align: right;\n",
       "    }\n",
       "</style>\n",
       "<table border=\"1\" class=\"dataframe\">\n",
       "  <thead>\n",
       "    <tr style=\"text-align: right;\">\n",
       "      <th></th>\n",
       "      <th>Actual</th>\n",
       "      <th>Predicted</th>\n",
       "    </tr>\n",
       "  </thead>\n",
       "  <tbody>\n",
       "    <tr>\n",
       "      <th>15</th>\n",
       "      <td>0.154154</td>\n",
       "      <td>0.153484</td>\n",
       "    </tr>\n",
       "    <tr>\n",
       "      <th>9</th>\n",
       "      <td>3.341830</td>\n",
       "      <td>2.670589</td>\n",
       "    </tr>\n",
       "    <tr>\n",
       "      <th>0</th>\n",
       "      <td>1.287830</td>\n",
       "      <td>1.322579</td>\n",
       "    </tr>\n",
       "    <tr>\n",
       "      <th>8</th>\n",
       "      <td>0.175957</td>\n",
       "      <td>0.178289</td>\n",
       "    </tr>\n",
       "    <tr>\n",
       "      <th>17</th>\n",
       "      <td>0.143515</td>\n",
       "      <td>0.144766</td>\n",
       "    </tr>\n",
       "  </tbody>\n",
       "</table>\n",
       "</div>"
      ],
      "text/plain": [
       "      Actual  Predicted\n",
       "15  0.154154   0.153484\n",
       "9   3.341830   2.670589\n",
       "0   1.287830   1.322579\n",
       "8   0.175957   0.178289\n",
       "17  0.143515   0.144766"
      ]
     },
     "execution_count": 217,
     "metadata": {},
     "output_type": "execute_result"
    }
   ],
   "source": [
    "df = pd.DataFrame({'Actual': y_test, 'Predicted': prediction})\n",
    "df"
   ]
  },
  {
   "cell_type": "markdown",
   "metadata": {},
   "source": [
    "# Accuracy"
   ]
  },
  {
   "cell_type": "code",
   "execution_count": 218,
   "metadata": {},
   "outputs": [],
   "source": [
    "def mape(actual, predicted):\n",
    "    return np.mean(100-np.abs((actual - predicted) / actual)* 100)"
   ]
  },
  {
   "cell_type": "code",
   "execution_count": 219,
   "metadata": {},
   "outputs": [
    {
     "data": {
      "text/plain": [
       "94.91685809359863"
      ]
     },
     "execution_count": 219,
     "metadata": {},
     "output_type": "execute_result"
    }
   ],
   "source": [
    "mape(y_test, prediction)"
   ]
  },
  {
   "cell_type": "markdown",
   "metadata": {},
   "source": [
    "# Vitualize the obtained values vs actual values"
   ]
  },
  {
   "cell_type": "code",
   "execution_count": 220,
   "metadata": {},
   "outputs": [],
   "source": [
    "prediction1=regression_model.predict(X)"
   ]
  },
  {
   "cell_type": "code",
   "execution_count": 221,
   "metadata": {},
   "outputs": [
    {
     "data": {
      "image/png": "[encoded data removed]",
      "text/plain": [
       "<Figure size 720x504 with 2 Axes>"
      ]
     },
     "metadata": {
      "needs_background": "light"
     },
     "output_type": "display_data"
    }
   ],
   "source": [
    "fig, (ax0, ax1) = plt.subplots(1,2, figsize=(10,7))\n",
    "\n",
    "# We do not need to plot against LSTAT2, just LSTAT\n",
    "ax0.scatter(mydata[\"rho\"], y)\n",
    "ax0.scatter(mydata[\"rho\"], prediction1.reshape((23,)),\n",
    "         color='red', lw=1, label=\"Predictions\")\n",
    "ax0.set_xlim([0.1, 0.9])\n",
    "\n",
    "\n",
    "ax1.scatter(mydata[\"rdf\"], y)\n",
    "ax1.plot(mydata[\"rdf\"], prediction1.reshape((23,)),'r^',\n",
    "         color='orange', lw=1, label=\"Predictions\")\n",
    "\n",
    "ax0.set_xlabel(\"rho\")\n",
    "ax1.set_xlabel(\"rdf\")\n",
    "\n",
    "ax1.set_xlim([2, 5])\n",
    "\n",
    "plt.show()"
   ]
  },
  {
   "cell_type": "code",
   "execution_count": 222,
   "metadata": {
    "scrolled": false
   },
   "outputs": [
    {
     "data": {
      "image/png": "[encoded data removed]",
      "text/plain": [
       "<Figure size 720x504 with 2 Axes>"
      ]
     },
     "metadata": {
      "needs_background": "light"
     },
     "output_type": "display_data"
    }
   ],
   "source": [
    "fig, (ax0, ax1) = plt.subplots(1,2, figsize=(10,7))\n",
    "\n",
    "# We do not need to plot against LSTAT2, just LSTAT\n",
    "ax0.scatter(mydata[\"P1\"], y)\n",
    "ax1.scatter(mydata[\"rdf_x\"], y)\n",
    "\n",
    "ax0.scatter(mydata[\"P1\"], prediction1.reshape((23,)),\n",
    "         color='red', lw=1, label=\"Predictions\")\n",
    "\n",
    "ax1.plot(mydata[\"rdf_x\"], prediction1.reshape((23,)),'r^',\n",
    "         color='green', lw=1, label=\"Polynomial Regression model\")\n",
    "\n",
    "ax1.set_xlim([-0.01, 1])\n",
    "ax0.set_xlim([0.1, 10])\n",
    "\n",
    "ax1.set_ylim([0, 4])\n",
    "ax0.set_ylim([0.1, 4])\n",
    "plt.show()"
   ]
  },
  {
   "cell_type": "code",
   "execution_count": 223,
   "metadata": {},
   "outputs": [
    {
     "data": {
      "text/plain": [
       "array([ 0.36340906, -0.03672243, -0.02797185, -0.99282849])"
      ]
     },
     "execution_count": 223,
     "metadata": {},
     "output_type": "execute_result"
    }
   ],
   "source": [
    "result=regression_model.coef_\n",
    "result"
   ]
  },
  {
   "cell_type": "code",
   "execution_count": 224,
   "metadata": {},
   "outputs": [
    {
     "data": {
      "text/plain": [
       "(23, 4)"
      ]
     },
     "execution_count": 224,
     "metadata": {},
     "output_type": "execute_result"
    }
   ],
   "source": [
    "X.shape"
   ]
  },
  {
   "cell_type": "code",
   "execution_count": 225,
   "metadata": {},
   "outputs": [
    {
     "data": {
      "text/plain": [
       "array([ 0.36340906, -0.03672243, -0.02797185, -0.99282849])"
      ]
     },
     "execution_count": 225,
     "metadata": {},
     "output_type": "execute_result"
    }
   ],
   "source": [
    "theta=regression_model.coef_\n",
    "theta.shape\n",
    "theta"
   ]
  },
  {
   "cell_type": "code",
   "execution_count": 226,
   "metadata": {},
   "outputs": [
    {
     "data": {
      "text/plain": [
       "(23,)"
      ]
     },
     "execution_count": 226,
     "metadata": {},
     "output_type": "execute_result"
    }
   ],
   "source": [
    "Z=0.5340887185921099*np.ones(y.shape)\n",
    "Z.shape"
   ]
  },
  {
   "cell_type": "code",
   "execution_count": 227,
   "metadata": {},
   "outputs": [
    {
     "data": {
      "text/plain": [
       "(23,)"
      ]
     },
     "execution_count": 227,
     "metadata": {},
     "output_type": "execute_result"
    }
   ],
   "source": [
    "htheta=np.dot(theta,X.T)+Z\n",
    "htheta.shape"
   ]
  },
  {
   "cell_type": "code",
   "execution_count": 228,
   "metadata": {},
   "outputs": [
    {
     "data": {
      "text/plain": [
       "[<matplotlib.lines.Line2D at 0x1bb636ad940>]"
      ]
     },
     "execution_count": 228,
     "metadata": {},
     "output_type": "execute_result"
    },
    {
     "data": {
      "image/png": "[encoded data removed]",
      "text/plain": [
       "<Figure size 432x288 with 1 Axes>"
      ]
     },
     "metadata": {
      "needs_background": "light"
     },
     "output_type": "display_data"
    }
   ],
   "source": [
    "plt.plot(X['rho'], htheta,\".\", c=\"green\")"
   ]
  },
  {
   "cell_type": "code",
   "execution_count": null,
   "metadata": {},
   "outputs": [],
   "source": []
  },
  {
   "cell_type": "code",
   "execution_count": null,
   "metadata": {},
   "outputs": [],
   "source": []
  }
 ],
 "metadata": {
  "kernelspec": {
   "display_name": "Python 3",
   "language": "python",
   "name": "python3"
  },
  "language_info": {
   "codemirror_mode": {
    "name": "ipython",
    "version": 3
   },
   "file_extension": ".py",
   "mimetype": "text/x-python",
   "name": "python",
   "nbconvert_exporter": "python",
   "pygments_lexer": "ipython3",
   "version": "3.8.5"
  }
 },
 "nbformat": 4,
 "nbformat_minor": 4
}
