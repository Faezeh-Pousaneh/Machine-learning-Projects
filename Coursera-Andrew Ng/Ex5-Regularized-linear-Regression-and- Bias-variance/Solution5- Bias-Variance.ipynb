{
 "cells": [
  {
   "cell_type": "code",
   "execution_count": 105,
   "metadata": {},
   "outputs": [],
   "source": [
    "import pandas as pd\n",
    "import pandas as pd\n",
    "import numpy as np\n",
    "import matplotlib.pyplot as plt\n",
    "import seaborn as sns\n",
    "import pylab\n",
    "\n",
    "import math\n",
    "\n",
    "from scipy import stats\n",
    "\n",
    "from sklearn import preprocessing\n",
    "\n",
    "import statsmodels.api as sm\n",
    "from statsmodels.stats import diagnostic as diag\n",
    "from statsmodels.stats.outliers_influence import variance_inflation_factor\n",
    "\n",
    "from sklearn.preprocessing import PolynomialFeatures\n",
    "from sklearn.model_selection import train_test_split\n",
    "from sklearn.linear_model import LogisticRegression\n",
    "from sklearn.metrics import mean_squared_error, r2_score, mean_absolute_error\n",
    "\n",
    "from sklearn import metrics\n",
    "import scipy.optimize as opt\n",
    "%matplotlib inline\n",
    "import warnings\n",
    "warnings.filterwarnings('ignore')\n",
    "from scipy.io import loadmat\n",
    "import os\n",
    "# library written for this exercise providing additional functions for assignment submission, and others\n",
    "import utils\n",
    "from scipy.optimize import fmin_cg\n",
    "import scipy.io as si\n",
    "# define the submission/grader object for this"
   ]
  },
  {
   "cell_type": "code",
   "execution_count": 106,
   "metadata": {},
   "outputs": [],
   "source": [
    "mydata = loadmat('data/ex5data1.mat')\n",
    "X, y = mydata['X'], mydata['y'].ravel()\n",
    "Xval,yval= mydata['Xval'], mydata['yval'].ravel()"
   ]
  },
  {
   "cell_type": "markdown",
   "metadata": {},
   "source": [
    "# The images are of size 20 * 20, this gives us 400 input layer units"
   ]
  },
  {
   "cell_type": "code",
   "execution_count": 107,
   "metadata": {},
   "outputs": [
    {
     "data": {
      "text/plain": [
       "{'__header__': b'MATLAB 5.0 MAT-file, Platform: GLNXA64, Created on: Fri Nov  4 22:27:26 2011',\n",
       " '__version__': '1.0',\n",
       " '__globals__': [],\n",
       " 'X': array([[-15.93675813],\n",
       "        [-29.15297922],\n",
       "        [ 36.18954863],\n",
       "        [ 37.49218733],\n",
       "        [-48.05882945],\n",
       "        [ -8.94145794],\n",
       "        [ 15.30779289],\n",
       "        [-34.70626581],\n",
       "        [  1.38915437],\n",
       "        [-44.38375985],\n",
       "        [  7.01350208],\n",
       "        [ 22.76274892]]),\n",
       " 'y': array([[ 2.13431051],\n",
       "        [ 1.17325668],\n",
       "        [34.35910918],\n",
       "        [36.83795516],\n",
       "        [ 2.80896507],\n",
       "        [ 2.12107248],\n",
       "        [14.71026831],\n",
       "        [ 2.61418439],\n",
       "        [ 3.74017167],\n",
       "        [ 3.73169131],\n",
       "        [ 7.62765885],\n",
       "        [22.7524283 ]]),\n",
       " 'Xtest': array([[-33.31800399],\n",
       "        [-37.91216403],\n",
       "        [-51.20693795],\n",
       "        [ -6.13259585],\n",
       "        [ 21.26118327],\n",
       "        [-40.31952949],\n",
       "        [-14.54153167],\n",
       "        [ 32.55976024],\n",
       "        [ 13.39343255],\n",
       "        [ 44.20988595],\n",
       "        [ -1.14267768],\n",
       "        [-12.76686065],\n",
       "        [ 34.05450539],\n",
       "        [ 39.22350028],\n",
       "        [  1.97449674],\n",
       "        [ 29.6217551 ],\n",
       "        [-23.66962971],\n",
       "        [ -9.01180139],\n",
       "        [-55.94057091],\n",
       "        [-35.70859752],\n",
       "        [  9.51020533]]),\n",
       " 'ytest': array([[ 3.31688953],\n",
       "        [ 5.39768952],\n",
       "        [ 0.13042984],\n",
       "        [ 6.1925982 ],\n",
       "        [17.08848712],\n",
       "        [ 0.79950805],\n",
       "        [ 2.82479183],\n",
       "        [28.62123334],\n",
       "        [17.04639081],\n",
       "        [55.38437334],\n",
       "        [ 4.07936733],\n",
       "        [ 8.27039793],\n",
       "        [31.32355102],\n",
       "        [39.15906103],\n",
       "        [ 8.08727989],\n",
       "        [24.11134389],\n",
       "        [ 2.4773548 ],\n",
       "        [ 6.56606472],\n",
       "        [ 6.0380888 ],\n",
       "        [ 4.69273956],\n",
       "        [10.83004606]]),\n",
       " 'Xval': array([[-16.74653578],\n",
       "        [-14.57747075],\n",
       "        [ 34.51575866],\n",
       "        [-47.01007574],\n",
       "        [ 36.97511905],\n",
       "        [-40.68611002],\n",
       "        [ -4.47201098],\n",
       "        [ 26.53363489],\n",
       "        [-42.7976831 ],\n",
       "        [ 25.37409938],\n",
       "        [-31.10955398],\n",
       "        [ 27.31176864],\n",
       "        [ -3.26386201],\n",
       "        [ -1.81827649],\n",
       "        [-40.7196624 ],\n",
       "        [-50.01324365],\n",
       "        [-17.41177155],\n",
       "        [  3.5881937 ],\n",
       "        [  7.08548026],\n",
       "        [ 46.28236902],\n",
       "        [ 14.61228909]]),\n",
       " 'yval': array([[ 4.17020201e+00],\n",
       "        [ 4.06726280e+00],\n",
       "        [ 3.18730676e+01],\n",
       "        [ 1.06236562e+01],\n",
       "        [ 3.18360213e+01],\n",
       "        [ 4.95936972e+00],\n",
       "        [ 4.45159880e+00],\n",
       "        [ 2.22763185e+01],\n",
       "        [-4.38738274e-05],\n",
       "        [ 2.05038016e+01],\n",
       "        [ 3.85834476e+00],\n",
       "        [ 1.93650529e+01],\n",
       "        [ 4.88376281e+00],\n",
       "        [ 1.10971588e+01],\n",
       "        [ 7.46170827e+00],\n",
       "        [ 1.47693464e+00],\n",
       "        [ 2.71916388e+00],\n",
       "        [ 1.09269007e+01],\n",
       "        [ 8.34871235e+00],\n",
       "        [ 5.27819280e+01],\n",
       "        [ 1.33573396e+01]])}"
      ]
     },
     "execution_count": 107,
     "metadata": {},
     "output_type": "execute_result"
    }
   ],
   "source": [
    "mydata"
   ]
  },
  {
   "cell_type": "code",
   "execution_count": 108,
   "metadata": {},
   "outputs": [
    {
     "data": {
      "text/plain": [
       "[<matplotlib.lines.Line2D at 0x1fe9c26a580>]"
      ]
     },
     "execution_count": 108,
     "metadata": {},
     "output_type": "execute_result"
    },
    {
     "data": {
      "image/png": "[encoded data removed]",
      "text/plain": [
       "<Figure size 432x288 with 1 Axes>"
      ]
     },
     "metadata": {
      "needs_background": "light"
     },
     "output_type": "display_data"
    }
   ],
   "source": [
    "plt.plot(X,y,marker='o',linestyle='', color='g')"
   ]
  },
  {
   "cell_type": "code",
   "execution_count": 109,
   "metadata": {},
   "outputs": [
    {
     "data": {
      "text/plain": [
       "[<matplotlib.lines.Line2D at 0x1fe9c339c70>]"
      ]
     },
     "execution_count": 109,
     "metadata": {},
     "output_type": "execute_result"
    },
    {
     "data": {
      "image/png": "[encoded data removed]",
      "text/plain": [
       "<Figure size 432x288 with 1 Axes>"
      ]
     },
     "metadata": {
      "needs_background": "light"
     },
     "output_type": "display_data"
    }
   ],
   "source": [
    "plt.plot(Xval,yval,marker='o',linestyle='', color='g')"
   ]
  },
  {
   "cell_type": "markdown",
   "metadata": {},
   "source": [
    "# Cost function"
   ]
  },
  {
   "cell_type": "code",
   "execution_count": 110,
   "metadata": {},
   "outputs": [],
   "source": [
    "X=X.reshape(12,)"
   ]
  },
  {
   "cell_type": "code",
   "execution_count": 111,
   "metadata": {},
   "outputs": [
    {
     "data": {
      "text/plain": [
       "array([[  1.        , -15.93675813],\n",
       "       [  1.        , -29.15297922],\n",
       "       [  1.        ,  36.18954863],\n",
       "       [  1.        ,  37.49218733],\n",
       "       [  1.        , -48.05882945],\n",
       "       [  1.        ,  -8.94145794],\n",
       "       [  1.        ,  15.30779289],\n",
       "       [  1.        , -34.70626581],\n",
       "       [  1.        ,   1.38915437],\n",
       "       [  1.        , -44.38375985],\n",
       "       [  1.        ,   7.01350208],\n",
       "       [  1.        ,  22.76274892]])"
      ]
     },
     "execution_count": 111,
     "metadata": {},
     "output_type": "execute_result"
    }
   ],
   "source": [
    "X0=np.ones(len(X))\n",
    "X1=np.array([X0,X]).transpose()\n",
    "X1"
   ]
  },
  {
   "cell_type": "code",
   "execution_count": 112,
   "metadata": {},
   "outputs": [],
   "source": [
    "def hypothesis(X1,theta):\n",
    "    htheta= np.dot(X1,theta)\n",
    "    return htheta\n"
   ]
  },
  {
   "cell_type": "code",
   "execution_count": 113,
   "metadata": {},
   "outputs": [],
   "source": [
    "def costfunction(theta,X1, y, lambda_):\n",
    "    m=len(y)\n",
    "    eps = 1e-15\n",
    "    htheta= np.dot(X1,theta)\n",
    "    lamarray = np.ones(len(theta)) * lambda_\n",
    "    lamarray[0] = 0.0\n",
    "    J=1/(2*m)*np.sum((htheta-y)**2)+(1/(2.0 * m)) * np.sum(lamarray*np.square(theta))\n",
    "    return J"
   ]
  },
  {
   "cell_type": "markdown",
   "metadata": {},
   "source": [
    "### Test cost function without reguralization \n",
    "term"
   ]
  },
  {
   "cell_type": "code",
   "execution_count": 114,
   "metadata": {},
   "outputs": [
    {
     "name": "stdout",
     "output_type": "stream",
     "text": [
      "Cost at theta = [1, 1]:\t   303.993192 \n",
      "(This value should be about 303.993192)\n",
      "\n"
     ]
    }
   ],
   "source": [
    "lambda_=0\n",
    "theta = np.array([1, 1])\n",
    "m=len(y)\n",
    "J=costfunction(theta,X1, y,1)\n",
    "print('Cost at theta = [1, 1]:\\t   %f ' % J)\n",
    "print('(This value should be about 303.993192)\\n' )"
   ]
  },
  {
   "cell_type": "code",
   "execution_count": 115,
   "metadata": {},
   "outputs": [
    {
     "data": {
      "text/plain": [
       "array([[  1.        , -15.93675813],\n",
       "       [  1.        , -29.15297922],\n",
       "       [  1.        ,  36.18954863],\n",
       "       [  1.        ,  37.49218733],\n",
       "       [  1.        , -48.05882945],\n",
       "       [  1.        ,  -8.94145794],\n",
       "       [  1.        ,  15.30779289],\n",
       "       [  1.        , -34.70626581],\n",
       "       [  1.        ,   1.38915437],\n",
       "       [  1.        , -44.38375985],\n",
       "       [  1.        ,   7.01350208],\n",
       "       [  1.        ,  22.76274892]])"
      ]
     },
     "execution_count": 115,
     "metadata": {},
     "output_type": "execute_result"
    }
   ],
   "source": [
    "X1"
   ]
  },
  {
   "cell_type": "markdown",
   "metadata": {},
   "source": [
    "# Gredient descent"
   ]
  },
  {
   "cell_type": "code",
   "execution_count": 116,
   "metadata": {},
   "outputs": [],
   "source": [
    "def gradient(theta,X1, y,  lambda_):\n",
    "    htheta= np.dot(X1,theta)\n",
    "    m=len(y)\n",
    "    lamarray = np.ones(len(theta)) * lambda_\n",
    "    lamarray[0] = 0.0\n",
    "    descent=(1/(m))*(np.dot(X1.T,htheta-y))+(lamarray/(m))*theta\n",
    "    \n",
    "    return descent"
   ]
  },
  {
   "cell_type": "code",
   "execution_count": 117,
   "metadata": {},
   "outputs": [
    {
     "data": {
      "text/plain": [
       "array([-15.30301567, 598.16741084])"
      ]
     },
     "execution_count": 117,
     "metadata": {},
     "output_type": "execute_result"
    }
   ],
   "source": [
    "theta = np.ones(2)\n",
    "descent=gradient(theta,X1, y, lambda_)\n",
    "descent"
   ]
  },
  {
   "cell_type": "code",
   "execution_count": 118,
   "metadata": {},
   "outputs": [
    {
     "data": {
      "text/plain": [
       "array([-15.30301567, 598.16741084])"
      ]
     },
     "execution_count": 118,
     "metadata": {},
     "output_type": "execute_result"
    }
   ],
   "source": [
    "gradient(np.array([1,1]),X1, y, 0)\n"
   ]
  },
  {
   "cell_type": "markdown",
   "metadata": {},
   "source": [
    "# Minimizie cost function to obtain $\\theta_i$"
   ]
  },
  {
   "cell_type": "code",
   "execution_count": 119,
   "metadata": {},
   "outputs": [],
   "source": [
    "initial_theta=np.array([-24,0.2])"
   ]
  },
  {
   "cell_type": "code",
   "execution_count": 120,
   "metadata": {},
   "outputs": [
    {
     "data": {
      "text/plain": [
       "(array([13.08790352,  0.36777923]), 7, 1)"
      ]
     },
     "execution_count": 120,
     "metadata": {},
     "output_type": "execute_result"
    }
   ],
   "source": [
    "#you shoud obtain  (13.087903510869072 0.3677792297456503)\n",
    "result= opt.fmin_tnc(func=costfunction,x0 = initial_theta.flatten(),fprime=gradient,args=(X1, y, lambda_))\n",
    "result"
   ]
  },
  {
   "cell_type": "code",
   "execution_count": 121,
   "metadata": {},
   "outputs": [
    {
     "data": {
      "text/plain": [
       "array([[-15.93675813],\n",
       "       [-29.15297922],\n",
       "       [ 36.18954863],\n",
       "       [ 37.49218733],\n",
       "       [-48.05882945],\n",
       "       [ -8.94145794],\n",
       "       [ 15.30779289],\n",
       "       [-34.70626581],\n",
       "       [  1.38915437],\n",
       "       [-44.38375985],\n",
       "       [  7.01350208],\n",
       "       [ 22.76274892]])"
      ]
     },
     "execution_count": 121,
     "metadata": {},
     "output_type": "execute_result"
    }
   ],
   "source": [
    "X1[:,1:]"
   ]
  },
  {
   "cell_type": "code",
   "execution_count": 122,
   "metadata": {},
   "outputs": [
    {
     "data": {
      "text/plain": [
       "array([[ -5.86120864],\n",
       "       [-10.72186026],\n",
       "       [ 13.30976434],\n",
       "       [ 13.7888478 ],\n",
       "       [-17.67503931],\n",
       "       [ -3.28848252],\n",
       "       [  5.62988829],\n",
       "       [-12.76424373],\n",
       "       [  0.51090212],\n",
       "       [-16.32342504],\n",
       "       [  2.5794204 ],\n",
       "       [  8.37166628]])"
      ]
     },
     "execution_count": 122,
     "metadata": {},
     "output_type": "execute_result"
    }
   ],
   "source": [
    "X1[:,1:]*result[0][1]"
   ]
  },
  {
   "cell_type": "code",
   "execution_count": 123,
   "metadata": {},
   "outputs": [
    {
     "data": {
      "text/plain": [
       "[<matplotlib.lines.Line2D at 0x1fe9b76e5b0>]"
      ]
     },
     "execution_count": 123,
     "metadata": {},
     "output_type": "execute_result"
    },
    {
     "data": {
      "image/png": "[encoded data removed]",
      "text/plain": [
       "<Figure size 432x288 with 1 Axes>"
      ]
     },
     "metadata": {
      "needs_background": "light"
     },
     "output_type": "display_data"
    }
   ],
   "source": [
    "c=np.arange(-50,40)\n",
    "plt.plot(X,y,marker='o',linestyle='', color='g')\n",
    "plt.plot(X,np.dot(X1,result[0]),marker='o',linestyle='', color='r')"
   ]
  },
  {
   "cell_type": "code",
   "execution_count": null,
   "metadata": {},
   "outputs": [],
   "source": []
  },
  {
   "cell_type": "code",
   "execution_count": null,
   "metadata": {},
   "outputs": [],
   "source": []
  }
 ],
 "metadata": {
  "kernelspec": {
   "display_name": "Python 3",
   "language": "python",
   "name": "python3"
  },
  "language_info": {
   "codemirror_mode": {
    "name": "ipython",
    "version": 3
   },
   "file_extension": ".py",
   "mimetype": "text/x-python",
   "name": "python",
   "nbconvert_exporter": "python",
   "pygments_lexer": "ipython3",
   "version": "3.8.5"
  }
 },
 "nbformat": 4,
 "nbformat_minor": 4
}
