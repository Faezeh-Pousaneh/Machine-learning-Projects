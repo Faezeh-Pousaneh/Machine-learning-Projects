{
 "cells": [
  {
   "cell_type": "code",
   "execution_count": 1,
   "metadata": {},
   "outputs": [],
   "source": [
    "import pandas as pd\n",
    "import pandas as pd\n",
    "import numpy as np\n",
    "import matplotlib.pyplot as plt\n",
    "import seaborn as sns\n",
    "import pylab\n",
    "\n",
    "import math\n",
    "\n",
    "from scipy import stats\n",
    "\n",
    "from sklearn import preprocessing\n",
    "\n",
    "import statsmodels.api as sm\n",
    "from statsmodels.stats import diagnostic as diag\n",
    "from statsmodels.stats.outliers_influence import variance_inflation_factor\n",
    "\n",
    "from sklearn.preprocessing import PolynomialFeatures\n",
    "from sklearn.model_selection import train_test_split\n",
    "from sklearn.linear_model import LogisticRegression\n",
    "from sklearn.metrics import mean_squared_error, r2_score, mean_absolute_error\n",
    "\n",
    "from sklearn import metrics\n",
    "import scipy.optimize as opt\n",
    "\n",
    "%matplotlib inline\n",
    "import warnings\n",
    "warnings.filterwarnings('ignore')\n"
   ]
  },
  {
   "cell_type": "code",
   "execution_count": 2,
   "metadata": {},
   "outputs": [],
   "source": [
    "mydata = pd.read_csv('data/ex2data2.txt',names=[\"Test1\", \"Test2\",\"QA\"])"
   ]
  },
  {
   "cell_type": "code",
   "execution_count": 3,
   "metadata": {},
   "outputs": [
    {
     "data": {
      "text/html": [
       "<div>\n",
       "<style scoped>\n",
       "    .dataframe tbody tr th:only-of-type {\n",
       "        vertical-align: middle;\n",
       "    }\n",
       "\n",
       "    .dataframe tbody tr th {\n",
       "        vertical-align: top;\n",
       "    }\n",
       "\n",
       "    .dataframe thead th {\n",
       "        text-align: right;\n",
       "    }\n",
       "</style>\n",
       "<table border=\"1\" class=\"dataframe\">\n",
       "  <thead>\n",
       "    <tr style=\"text-align: right;\">\n",
       "      <th></th>\n",
       "      <th>Test1</th>\n",
       "      <th>Test2</th>\n",
       "      <th>QA</th>\n",
       "    </tr>\n",
       "  </thead>\n",
       "  <tbody>\n",
       "    <tr>\n",
       "      <th>0</th>\n",
       "      <td>0.051267</td>\n",
       "      <td>0.699560</td>\n",
       "      <td>1</td>\n",
       "    </tr>\n",
       "    <tr>\n",
       "      <th>1</th>\n",
       "      <td>-0.092742</td>\n",
       "      <td>0.684940</td>\n",
       "      <td>1</td>\n",
       "    </tr>\n",
       "    <tr>\n",
       "      <th>2</th>\n",
       "      <td>-0.213710</td>\n",
       "      <td>0.692250</td>\n",
       "      <td>1</td>\n",
       "    </tr>\n",
       "    <tr>\n",
       "      <th>3</th>\n",
       "      <td>-0.375000</td>\n",
       "      <td>0.502190</td>\n",
       "      <td>1</td>\n",
       "    </tr>\n",
       "    <tr>\n",
       "      <th>4</th>\n",
       "      <td>-0.513250</td>\n",
       "      <td>0.465640</td>\n",
       "      <td>1</td>\n",
       "    </tr>\n",
       "    <tr>\n",
       "      <th>...</th>\n",
       "      <td>...</td>\n",
       "      <td>...</td>\n",
       "      <td>...</td>\n",
       "    </tr>\n",
       "    <tr>\n",
       "      <th>113</th>\n",
       "      <td>-0.720620</td>\n",
       "      <td>0.538740</td>\n",
       "      <td>0</td>\n",
       "    </tr>\n",
       "    <tr>\n",
       "      <th>114</th>\n",
       "      <td>-0.593890</td>\n",
       "      <td>0.494880</td>\n",
       "      <td>0</td>\n",
       "    </tr>\n",
       "    <tr>\n",
       "      <th>115</th>\n",
       "      <td>-0.484450</td>\n",
       "      <td>0.999270</td>\n",
       "      <td>0</td>\n",
       "    </tr>\n",
       "    <tr>\n",
       "      <th>116</th>\n",
       "      <td>-0.006336</td>\n",
       "      <td>0.999270</td>\n",
       "      <td>0</td>\n",
       "    </tr>\n",
       "    <tr>\n",
       "      <th>117</th>\n",
       "      <td>0.632650</td>\n",
       "      <td>-0.030612</td>\n",
       "      <td>0</td>\n",
       "    </tr>\n",
       "  </tbody>\n",
       "</table>\n",
       "<p>118 rows × 3 columns</p>\n",
       "</div>"
      ],
      "text/plain": [
       "        Test1     Test2  QA\n",
       "0    0.051267  0.699560   1\n",
       "1   -0.092742  0.684940   1\n",
       "2   -0.213710  0.692250   1\n",
       "3   -0.375000  0.502190   1\n",
       "4   -0.513250  0.465640   1\n",
       "..        ...       ...  ..\n",
       "113 -0.720620  0.538740   0\n",
       "114 -0.593890  0.494880   0\n",
       "115 -0.484450  0.999270   0\n",
       "116 -0.006336  0.999270   0\n",
       "117  0.632650 -0.030612   0\n",
       "\n",
       "[118 rows x 3 columns]"
      ]
     },
     "execution_count": 3,
     "metadata": {},
     "output_type": "execute_result"
    }
   ],
   "source": [
    "mydata"
   ]
  },
  {
   "cell_type": "code",
   "execution_count": 4,
   "metadata": {},
   "outputs": [
    {
     "data": {
      "text/plain": [
       "<seaborn.axisgrid.FacetGrid at 0x1efa96fb9a0>"
      ]
     },
     "execution_count": 4,
     "metadata": {},
     "output_type": "execute_result"
    },
    {
     "data": {
      "image/png": "[encoded data removed]",
      "text/plain": [
       "<Figure size 402.375x360 with 1 Axes>"
      ]
     },
     "metadata": {
      "needs_background": "light"
     },
     "output_type": "display_data"
    }
   ],
   "source": [
    "sns.lmplot(x=\"Test1\",y=\"Test2\",hue=\"QA\",data=mydata,fit_reg=False,palette=\"Set1\")"
   ]
  },
  {
   "cell_type": "markdown",
   "metadata": {},
   "source": [
    "===================================================================================================\n",
    "# Feature Mapping\n",
    "# In this problem we have two features (Test1 and Test 2) and one target (QA). We create more features to 28-dimention. X Up to degree=6"
   ]
  },
  {
   "cell_type": "code",
   "execution_count": 5,
   "metadata": {},
   "outputs": [],
   "source": [
    "x1=np.array(mydata[\"Test1\"])\n",
    "x2=np.array(mydata[\"Test2\"])"
   ]
  },
  {
   "cell_type": "code",
   "execution_count": 6,
   "metadata": {},
   "outputs": [],
   "source": [
    "def mapFeature(X1, X2, degrees=6):\n",
    "    \n",
    "    m = len(np.atleast_1d(X1))\n",
    "    X = np.ones((m, 1))\n",
    "    for ii in range(1, degrees+1):\n",
    "        for jj in range(0,ii+1):\n",
    "            X = np.hstack((X, (X1**(ii-jj) * X2**jj).reshape(m,1)))\n",
    "    \n",
    "    return X"
   ]
  },
  {
   "cell_type": "code",
   "execution_count": 7,
   "metadata": {},
   "outputs": [
    {
     "data": {
      "text/plain": [
       "(118, 28)"
      ]
     },
     "execution_count": 7,
     "metadata": {},
     "output_type": "execute_result"
    }
   ],
   "source": [
    "X=mapFeature(x1,x2, degrees=6)\n",
    "X.shape"
   ]
  },
  {
   "cell_type": "code",
   "execution_count": 8,
   "metadata": {},
   "outputs": [
    {
     "data": {
      "text/plain": [
       "array([[ 1.00000000e+00,  5.12670000e-02,  6.99560000e-01, ...,\n",
       "         6.29470940e-04,  8.58939846e-03,  1.17205992e-01],\n",
       "       [ 1.00000000e+00, -9.27420000e-02,  6.84940000e-01, ...,\n",
       "         1.89305413e-03, -1.39810280e-02,  1.03255971e-01],\n",
       "       [ 1.00000000e+00, -2.13710000e-01,  6.92250000e-01, ...,\n",
       "         1.04882142e-02, -3.39734512e-02,  1.10046893e-01],\n",
       "       ...,\n",
       "       [ 1.00000000e+00, -4.84450000e-01,  9.99270000e-01, ...,\n",
       "         2.34007252e-01, -4.82684337e-01,  9.95627986e-01],\n",
       "       [ 1.00000000e+00, -6.33640000e-03,  9.99270000e-01, ...,\n",
       "         4.00328554e-05, -6.31330588e-03,  9.95627986e-01],\n",
       "       [ 1.00000000e+00,  6.32650000e-01, -3.06120000e-02, ...,\n",
       "         3.51474517e-07, -1.70067777e-08,  8.22905998e-10]])"
      ]
     },
     "execution_count": 8,
     "metadata": {},
     "output_type": "execute_result"
    }
   ],
   "source": [
    "X"
   ]
  },
  {
   "cell_type": "code",
   "execution_count": 9,
   "metadata": {},
   "outputs": [
    {
     "data": {
      "text/plain": [
       "array([1, 1, 1, 1, 1, 1, 1, 1, 1, 1, 1, 1, 1, 1, 1, 1, 1, 1, 1, 1, 1, 1,\n",
       "       1, 1, 1, 1, 1, 1, 1, 1, 1, 1, 1, 1, 1, 1, 1, 1, 1, 1, 1, 1, 1, 1,\n",
       "       1, 1, 1, 1, 1, 1, 1, 1, 1, 1, 1, 1, 1, 1, 0, 0, 0, 0, 0, 0, 0, 0,\n",
       "       0, 0, 0, 0, 0, 0, 0, 0, 0, 0, 0, 0, 0, 0, 0, 0, 0, 0, 0, 0, 0, 0,\n",
       "       0, 0, 0, 0, 0, 0, 0, 0, 0, 0, 0, 0, 0, 0, 0, 0, 0, 0, 0, 0, 0, 0,\n",
       "       0, 0, 0, 0, 0, 0, 0, 0], dtype=int64)"
      ]
     },
     "execution_count": 9,
     "metadata": {},
     "output_type": "execute_result"
    }
   ],
   "source": [
    "y=np.array(mydata[\"QA\"])\n",
    "y"
   ]
  },
  {
   "cell_type": "code",
   "execution_count": 10,
   "metadata": {},
   "outputs": [
    {
     "data": {
      "text/plain": [
       "(118,)"
      ]
     },
     "execution_count": 10,
     "metadata": {},
     "output_type": "execute_result"
    }
   ],
   "source": [
    "y.shape"
   ]
  },
  {
   "cell_type": "markdown",
   "metadata": {},
   "source": [
    "========================================================================================================\n",
    "# Logistic Regression Hyphothesis"
   ]
  },
  {
   "cell_type": "markdown",
   "metadata": {},
   "source": [
    "# $h_{\\theta}(x)=g(\\theta^T x)$\n",
    "\n",
    ".\n",
    "# Where g is sigmoind function\n",
    "\n",
    "#  $g(z)=\\frac{1}{1+e^{-z}}$"
   ]
  },
  {
   "cell_type": "code",
   "execution_count": 11,
   "metadata": {},
   "outputs": [],
   "source": [
    "def sigmoid(z):\n",
    "    return  1. / (1. + np.exp(-z))"
   ]
  },
  {
   "cell_type": "code",
   "execution_count": 12,
   "metadata": {},
   "outputs": [
    {
     "data": {
      "text/plain": [
       "[<matplotlib.lines.Line2D at 0x1efaf81e0a0>]"
      ]
     },
     "execution_count": 12,
     "metadata": {},
     "output_type": "execute_result"
    },
    {
     "data": {
      "image/png": "[encoded data removed]",
      "text/plain": [
       "<Figure size 432x288 with 1 Axes>"
      ]
     },
     "metadata": {
      "needs_background": "light"
     },
     "output_type": "display_data"
    }
   ],
   "source": [
    "z = np.arange(-5,5,0.1)\n",
    "plt.plot(z,sigmoid(z))"
   ]
  },
  {
   "cell_type": "markdown",
   "metadata": {},
   "source": [
    "================================================================================================\n",
    "# Cost Function\n",
    "# $J(\\theta)=\\frac{1}{m}{\\sum\\limits_{i=1}^{m}}(-y^{(i)}log(h_{\\theta}(x^{(i)}))-(1-y^{(i)})log(1-h_{\\theta}(x^{(i)})))+\\frac{\\lambda}{2m}\\sum\\limits_{i=1}^{m}\\theta_j^2$"
   ]
  },
  {
   "cell_type": "code",
   "execution_count": 13,
   "metadata": {},
   "outputs": [],
   "source": [
    "def hypothesis(theta,X):\n",
    "    htheta=sigmoid(np.dot(theta,X))\n",
    "    return htheta"
   ]
  },
  {
   "cell_type": "markdown",
   "metadata": {},
   "source": [
    "# Note that the first $\\theta$ in the second term above should be zero. Therefore we need to put lamarray[0]=0"
   ]
  },
  {
   "cell_type": "code",
   "execution_count": 14,
   "metadata": {},
   "outputs": [],
   "source": [
    "def computecost(theta,X,y,lambda_):\n",
    "    m=len(y)\n",
    "    eps = 1e-15\n",
    "    lamarray = np.ones(len(theta)) * lambda_\n",
    "    lamarray[0] = 0.0\n",
    "    htheta=sigmoid(np.dot(X,theta))\n",
    "    J = (1./m) * np.sum(-np.dot(y,(np.log(htheta))) - np.dot((1. - y),(np.log(1. - htheta))))+ (1/(2.0 * m)) * np.sum(lamarray*np.square(theta))\n",
    "    return J"
   ]
  },
  {
   "cell_type": "markdown",
   "metadata": {},
   "source": [
    "# Check your cosfunction: For $\\lambda_=1$ and $\\theta$ zeros the cost function should be 0.69 and for $\\theta$ ones shoudl be 2.13."
   ]
  },
  {
   "cell_type": "code",
   "execution_count": 15,
   "metadata": {},
   "outputs": [
    {
     "data": {
      "text/plain": [
       "0.6931471805599453"
      ]
     },
     "execution_count": 15,
     "metadata": {},
     "output_type": "execute_result"
    }
   ],
   "source": [
    "#test\n",
    "lambda_=1.\n",
    "int_theta = np.zeros(X.shape[1])\n",
    "computecost(int_theta,X,y,lambda_)\n",
    "#should give 0.69"
   ]
  },
  {
   "cell_type": "code",
   "execution_count": 16,
   "metadata": {},
   "outputs": [
    {
     "data": {
      "text/plain": [
       "2.1348483146658572"
      ]
     },
     "execution_count": 16,
     "metadata": {},
     "output_type": "execute_result"
    }
   ],
   "source": [
    "#test\n",
    "lambda_=1.\n",
    "test_theta = np.ones(X.shape[1])\n",
    "computecost(test_theta,X,y,lambda_)\n",
    "# should give 2.13"
   ]
  },
  {
   "cell_type": "markdown",
   "metadata": {},
   "source": [
    "================================================================================================\n",
    "# Gradient Descent\n",
    "#  $\\theta_j = \\theta_j-\\frac{\\alpha}{m}{\\sum\\limits_{i=1}^{m}}(h_{\\theta}(x^{(i)})-y^i)x^{(i)}+\\frac{\\lambda}{m}\\theta_j$"
   ]
  },
  {
   "cell_type": "code",
   "execution_count": 25,
   "metadata": {},
   "outputs": [],
   "source": [
    "def gradientdescent(theta,X,y,lambda_):\n",
    "    m=len(y)\n",
    "    lamarray = np.ones(len(theta)) * lambda_\n",
    "    lamarray[0] = 0.0\n",
    "    htheta=sigmoid(np.dot(X,theta))\n",
    "    descent = (1/m)*np.dot(X.T,(htheta - y))+( lamarray /m)*theta\n",
    "    return descent"
   ]
  },
  {
   "cell_type": "code",
   "execution_count": 26,
   "metadata": {},
   "outputs": [
    {
     "data": {
      "text/plain": [
       "(118,)"
      ]
     },
     "execution_count": 26,
     "metadata": {},
     "output_type": "execute_result"
    }
   ],
   "source": [
    "#check\n",
    "theta = np.ones(X.shape[1])\n",
    "htheta=sigmoid(np.dot(X,theta))\n",
    "htheta.shape"
   ]
  },
  {
   "cell_type": "markdown",
   "metadata": {},
   "source": [
    "# Check your gradient descent for $\\theta$ zeros and ones"
   ]
  },
  {
   "cell_type": "code",
   "execution_count": 27,
   "metadata": {},
   "outputs": [
    {
     "data": {
      "text/plain": [
       "array([8.47457627e-03, 1.87880932e-02, 7.77711864e-05, 5.03446395e-02,\n",
       "       1.15013308e-02, 3.76648474e-02, 1.83559872e-02, 7.32393391e-03,\n",
       "       8.19244468e-03, 2.34764889e-02, 3.93486234e-02, 2.23923907e-03,\n",
       "       1.28600503e-02, 3.09593720e-03, 3.93028171e-02, 1.99707467e-02,\n",
       "       4.32983232e-03, 3.38643902e-03, 5.83822078e-03, 4.47629067e-03,\n",
       "       3.10079849e-02, 3.10312442e-02, 1.09740238e-03, 6.31570797e-03,\n",
       "       4.08503006e-04, 7.26504316e-03, 1.37646175e-03, 3.87936363e-02])"
      ]
     },
     "execution_count": 27,
     "metadata": {},
     "output_type": "execute_result"
    }
   ],
   "source": [
    "#test\n",
    "lambda_=1.0\n",
    "theta = np.zeros(X.shape[1])\n",
    "gradientdescent(theta,X,y,lambda_)\n",
    "#correct answer shoudl start with 8.4 and end with 3.87"
   ]
  },
  {
   "cell_type": "code",
   "execution_count": 28,
   "metadata": {},
   "outputs": [
    {
     "data": {
      "text/plain": [
       "array([0.34604507, 0.08508073, 0.11852457, 0.1505916 , 0.01591449,\n",
       "       0.16811439, 0.06712094, 0.03217053, 0.02604321, 0.10719727,\n",
       "       0.09725885, 0.01098433, 0.04195657, 0.00957212, 0.12367776,\n",
       "       0.05895534, 0.01870409, 0.01729323, 0.02352665, 0.01513039,\n",
       "       0.09858123, 0.07328323, 0.01051447, 0.02270567, 0.00904832,\n",
       "       0.02563548, 0.00823079, 0.10601204])"
      ]
     },
     "execution_count": 28,
     "metadata": {},
     "output_type": "execute_result"
    }
   ],
   "source": [
    "#test\n",
    "lambda_=1.0\n",
    "theta = np.ones(X.shape[1])\n",
    "gradientdescent(theta,X,y,lambda_)\n",
    "#correct answer shoudl start with 0.34 and end with 0.106"
   ]
  },
  {
   "cell_type": "markdown",
   "metadata": {},
   "source": [
    "# Obtaining $\\theta$ using fminunc for given $\\lambda$"
   ]
  },
  {
   "cell_type": "code",
   "execution_count": 21,
   "metadata": {},
   "outputs": [],
   "source": [
    "def result(X,y,lambda_):\n",
    "    lamarray = np.ones(len(theta)) * lambda_\n",
    "    lamarray[0] = 0.0\n",
    "    test_theta = np.zeros(X.shape[1])\n",
    "    R=opt.fmin_tnc(func=computecost,x0 = test_theta.flatten(),fprime=gradientdescent,args=(X,y,lambda_))\n",
    "    return(R)"
   ]
  },
  {
   "cell_type": "code",
   "execution_count": 22,
   "metadata": {},
   "outputs": [
    {
     "data": {
      "text/plain": [
       "array([ 1.27271026,  0.62529964,  1.18111686, -2.019874  , -0.91743188,\n",
       "       -1.43166928,  0.12393227, -0.36553118, -0.35725406, -0.17516292,\n",
       "       -1.45817009, -0.05098418, -0.61558558, -0.27469165, -1.192713  ,\n",
       "       -0.2421784 , -0.20603303, -0.04466177, -0.27778946, -0.29539514,\n",
       "       -0.45645982, -1.04319154,  0.02779373, -0.29244863,  0.01555759,\n",
       "       -0.32742403, -0.14389149, -0.92467488])"
      ]
     },
     "execution_count": 22,
     "metadata": {},
     "output_type": "execute_result"
    }
   ],
   "source": [
    "#test\n",
    "lambda_=1.0\n",
    "lamarray = np.ones(len(theta)) * lambda_\n",
    "lamarray[0] = 0.0\n",
    "ret=result(X,y,lamarray)[0]\n",
    "ret"
   ]
  },
  {
   "cell_type": "code",
   "execution_count": null,
   "metadata": {},
   "outputs": [],
   "source": []
  },
  {
   "cell_type": "markdown",
   "metadata": {},
   "source": [
    "# Plotting Descision Boundary\n",
    "###  Note the the decision boundary is where $\\theta^TX=0$, or $sigmoid(\\theta^TX)=0.5$. "
   ]
  },
  {
   "cell_type": "code",
   "execution_count": 23,
   "metadata": {},
   "outputs": [],
   "source": [
    "def plotData2(X, y):\n",
    "    \n",
    "    # get indices of 1 and 0 y values\n",
    "    pos = y == 1\n",
    "    neg = y == 0\n",
    "    \n",
    "    # plot positive (i.e., accepted) points\n",
    "    plt.plot(X[pos,0], X[pos,1], '+', color='k', ms=7,\n",
    "             mew=2, label=r'Accepted')\n",
    "    \n",
    "    # plot negative (i.e., not accepted) points\n",
    "    plt.plot(X[neg,0], X[neg,1], 'o', color='y', ms=7,\n",
    "            label=r'Rejected')\n",
    "    \n",
    "    # axes labels\n",
    "    plt.xlabel(r'Microchip test 1')\n",
    "    plt.ylabel(r'Microchip test 2')\n",
    "    \n",
    "    # add legend\n",
    "    plt.legend(loc='best', fontsize=8, numpoints=1)"
   ]
  },
  {
   "cell_type": "code",
   "execution_count": 24,
   "metadata": {},
   "outputs": [
    {
     "data": {
      "image/png": "[encoded data removed]",
      "text/plain": [
       "<Figure size 432x288 with 1 Axes>"
      ]
     },
     "metadata": {
      "needs_background": "light"
     },
     "output_type": "display_data"
    }
   ],
   "source": [
    "plotData2(X, y)"
   ]
  },
  {
   "cell_type": "code",
   "execution_count": 25,
   "metadata": {},
   "outputs": [],
   "source": [
    "def plotDecisionBoundary2(theta, X, y,lamarray):\n",
    "    ret=result(X,y,lambda_)[0]\n",
    "\n",
    "    # plot the data\n",
    "    plotData2(X[:,1:3], y)\n",
    "\n",
    "    u = np.linspace(-1, 1.5,50)\n",
    "    v = np.linspace(-1, 1.5, 50)\n",
    "\n",
    "    z = np.zeros((len(u), len(v)))\n",
    "    for i in range(len(u)):\n",
    "        for j in range(len(v)):\n",
    "            z[i,j] = np.dot(mapFeature(u[i], v[j]), ret)\n",
    "\n",
    "    plt.contour(u, v, z.T, 0, labels='Decision Boundary', colors='b')\n",
    "    "
   ]
  },
  {
   "cell_type": "code",
   "execution_count": 26,
   "metadata": {},
   "outputs": [
    {
     "data": {
      "text/plain": [
       "Text(0.5, 1.0, 'lambda=1')"
      ]
     },
     "execution_count": 26,
     "metadata": {},
     "output_type": "execute_result"
    },
    {
     "data": {
      "image/png": "[encoded data removed]",
      "text/plain": [
       "<Figure size 432x288 with 1 Axes>"
      ]
     },
     "metadata": {
      "needs_background": "light"
     },
     "output_type": "display_data"
    }
   ],
   "source": [
    "lambda_=1.0\n",
    "lamarray = np.ones(len(theta)) * lambda_\n",
    "lamarray[0] = 0.0\n",
    "plotDecisionBoundary2(ret, X, y,lamarray)\n",
    "plt.title('lambda=1')"
   ]
  },
  {
   "cell_type": "code",
   "execution_count": 27,
   "metadata": {
    "scrolled": true
   },
   "outputs": [
    {
     "data": {
      "text/plain": [
       "Text(0.5, 1.0, 'lambda=100')"
      ]
     },
     "execution_count": 27,
     "metadata": {},
     "output_type": "execute_result"
    },
    {
     "data": {
      "image/png": "[encoded data removed]",
      "text/plain": [
       "<Figure size 432x288 with 1 Axes>"
      ]
     },
     "metadata": {
      "needs_background": "light"
     },
     "output_type": "display_data"
    }
   ],
   "source": [
    "# if lambda is set to too high a value, you will not get a good fit and the decision\n",
    "# boundary will not follow the data so well, thus underfitting the data\n",
    "# regularization helps to overcome overfitting\n",
    "lambda_=100.\n",
    "lamarray = np.ones(len(theta)) *lambda_\n",
    "lamarray[0] = 0.0\n",
    "plotDecisionBoundary2(ret, X, y,lamarray)\n",
    "plt.title('lambda=100')"
   ]
  },
  {
   "cell_type": "code",
   "execution_count": 28,
   "metadata": {},
   "outputs": [
    {
     "data": {
      "text/plain": [
       "Text(0.5, 1.0, 'lambda=0')"
      ]
     },
     "execution_count": 28,
     "metadata": {},
     "output_type": "execute_result"
    },
    {
     "data": {
      "image/png": "[encoded data removed]",
      "text/plain": [
       "<Figure size 432x288 with 1 Axes>"
      ]
     },
     "metadata": {
      "needs_background": "light"
     },
     "output_type": "display_data"
    }
   ],
   "source": [
    "# small lambda gives overfitting\n",
    "lambda_=0.\n",
    "plotDecisionBoundary2(ret, X, y,lambda_)\n",
    "plt.title('lambda=0')"
   ]
  },
  {
   "cell_type": "code",
   "execution_count": null,
   "metadata": {},
   "outputs": [],
   "source": []
  },
  {
   "cell_type": "markdown",
   "metadata": {},
   "source": [
    "### or decision boundary is where  $sigmoid(\\theta^TX)=0.5$. "
   ]
  },
  {
   "cell_type": "code",
   "execution_count": 29,
   "metadata": {},
   "outputs": [],
   "source": [
    "def plotDecisionBoundary2(theta, X, y,lamarray):\n",
    "    ret=result(X,y,lambda_)[0]\n",
    "\n",
    "    # plot the data\n",
    "    plotData2(X[:,1:3], y)\n",
    "\n",
    "    u = np.linspace(-1, 1.5,50)\n",
    "    v = np.linspace(-1, 1.5, 50)\n",
    "\n",
    "    z = np.zeros((len(u), len(v)))\n",
    "    for i in range(len(u)):\n",
    "        for j in range(len(v)):\n",
    "            z[i,j] = sigmoid(np.dot(mapFeature(u[i], v[j]), ret))-0.5\n",
    "\n",
    "    plt.contour(u, v, z.T, 0, labels='Decision Boundary', colors='b')"
   ]
  },
  {
   "cell_type": "code",
   "execution_count": 30,
   "metadata": {},
   "outputs": [
    {
     "data": {
      "text/plain": [
       "Text(0.5, 1.0, 'lambda=0')"
      ]
     },
     "execution_count": 30,
     "metadata": {},
     "output_type": "execute_result"
    },
    {
     "data": {
      "image/png": "[encoded data removed]",
      "text/plain": [
       "<Figure size 432x288 with 1 Axes>"
      ]
     },
     "metadata": {
      "needs_background": "light"
     },
     "output_type": "display_data"
    }
   ],
   "source": [
    "# small lambda gives overfitting\n",
    "lambda_=0.\n",
    "plotDecisionBoundary2(ret, X, y,lambda_)\n",
    "plt.title('lambda=0')"
   ]
  },
  {
   "cell_type": "code",
   "execution_count": null,
   "metadata": {},
   "outputs": [],
   "source": []
  },
  {
   "cell_type": "code",
   "execution_count": null,
   "metadata": {},
   "outputs": [],
   "source": []
  }
 ],
 "metadata": {
  "kernelspec": {
   "display_name": "Python 3",
   "language": "python",
   "name": "python3"
  },
  "language_info": {
   "codemirror_mode": {
    "name": "ipython",
    "version": 3
   },
   "file_extension": ".py",
   "mimetype": "text/x-python",
   "name": "python",
   "nbconvert_exporter": "python",
   "pygments_lexer": "ipython3",
   "version": "3.8.5"
  }
 },
 "nbformat": 4,
 "nbformat_minor": 4
}
